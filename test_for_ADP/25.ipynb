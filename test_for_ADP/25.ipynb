{
 "cells": [
  {
   "cell_type": "markdown",
   "id": "0a308b4f",
   "metadata": {},
   "source": [
    "# ADP 25회 실기 문제"
   ]
  },
  {
   "cell_type": "markdown",
   "id": "a941a31c",
   "metadata": {},
   "source": [
    "[![Hits](https://hits.seeyoufarm.com/api/count/incr/badge.svg?url=https%3A%2F%2Fwww.datamanim.com%2Fdataset%2FADPpb%2F00%2F25.html&count_bg=%23582382&title_bg=%23555555&icon=&icon_color=%23E7E7E7&title=hits&edge_flat=false)](https://hits.seeyoufarm.com)"
   ]
  },
  {
   "cell_type": "markdown",
   "id": "e1837ca7",
   "metadata": {},
   "source": [
    "```{attention} \n",
    "**[캐글에 풀이공유하기](https://www.kaggle.com/datasets/kukuroo3/adp-p7/code)**   \n",
    "```"
   ]
  },
  {
   "cell_type": "markdown",
   "id": "d0ad3b01",
   "metadata": {},
   "source": [
    "```{admonition} 1번\n",
    "**데이터 확인 및 전처리**     \n",
    "- 1.1 EDA, 이상치 제거 후 F(소비자별 구매빈도), M(소비자별 총 구매액) feature를 새로 생성해서 그 결과값으로 탐색적 분석 실시\n",
    "- 1.2 F, M feature 기반으로 군집분석 실시\n",
    "- 1.3 군집 결과의 적합성을 군집 내 응집도, 군집 간 분리도의 개념을 사용해서 서술\n",
    "- 1.4 적합된 군집 별 특성에 대한 의견과 비즈니스적 판단 제시\n",
    "- 데이터 설명\n",
    "    - InvoiceNo: Invoice number. Nominal, a 6-digit integral number uniquely assigned to each transaction. If this code starts with letter 'c', it indicates a cancellation.     \n",
    "    - StockCode: Product (item) code. Nominal, a 5-digit integral number uniquely assigned to each distinct product.     \n",
    "    - Description: Product (item) name. Nominal.    \n",
    "    - Quantity: The quantities of each product (item) per transaction. Numeric.     \n",
    "    - InvoiceDate: Invice Date and time. Numeric, the day and time when each transaction was generated.   \n",
    "    - UnitPrice: Unit price. Numeric, Product price per unit in sterling.    \n",
    "    - CustomerID: Customer number. Nominal, a 5-digit integral number uniquely assigned to each customer.     \n",
    "    - Country: Country name. Nominal, the name of the country where each customer resides.   \n",
    "- 출처\n",
    "    - https://archive.ics.uci.edu/ml/index.phpm\n",
    "```"
   ]
  },
  {
   "cell_type": "code",
   "execution_count": 1,
   "id": "3d21ff32",
   "metadata": {
    "ExecuteTime": {
     "end_time": "2022-09-04T04:59:53.353886Z",
     "start_time": "2022-09-04T04:59:52.069005Z"
    },
    "tags": [
     "hide-input"
    ]
   },
   "outputs": [
    {
     "data": {
      "text/html": [
       "<div>\n",
       "<style scoped>\n",
       "    .dataframe tbody tr th:only-of-type {\n",
       "        vertical-align: middle;\n",
       "    }\n",
       "\n",
       "    .dataframe tbody tr th {\n",
       "        vertical-align: top;\n",
       "    }\n",
       "\n",
       "    .dataframe thead th {\n",
       "        text-align: right;\n",
       "    }\n",
       "</style>\n",
       "<table border=\"1\" class=\"dataframe\">\n",
       "  <thead>\n",
       "    <tr style=\"text-align: right;\">\n",
       "      <th></th>\n",
       "      <th>InvoiceNo</th>\n",
       "      <th>StockCode</th>\n",
       "      <th>Description</th>\n",
       "      <th>Quantity</th>\n",
       "      <th>InvoiceDate</th>\n",
       "      <th>UnitPrice</th>\n",
       "      <th>CustomerID</th>\n",
       "      <th>Country</th>\n",
       "    </tr>\n",
       "  </thead>\n",
       "  <tbody>\n",
       "    <tr>\n",
       "      <th>0</th>\n",
       "      <td>565857</td>\n",
       "      <td>84879</td>\n",
       "      <td>ASSORTED COLOUR BIRD ORNAMENT</td>\n",
       "      <td>16</td>\n",
       "      <td>9/7/2011 14:13</td>\n",
       "      <td>1.69</td>\n",
       "      <td>14911.0</td>\n",
       "      <td>EIRE</td>\n",
       "    </tr>\n",
       "    <tr>\n",
       "      <th>1</th>\n",
       "      <td>560452</td>\n",
       "      <td>22432</td>\n",
       "      <td>WATERING CAN PINK BUNNY</td>\n",
       "      <td>6</td>\n",
       "      <td>7/19/2011 9:51</td>\n",
       "      <td>1.95</td>\n",
       "      <td>12682.0</td>\n",
       "      <td>France</td>\n",
       "    </tr>\n",
       "    <tr>\n",
       "      <th>2</th>\n",
       "      <td>578509</td>\n",
       "      <td>22492</td>\n",
       "      <td>MINI PAINT SET VINTAGE</td>\n",
       "      <td>36</td>\n",
       "      <td>11/24/2011 13:17</td>\n",
       "      <td>0.65</td>\n",
       "      <td>12705.0</td>\n",
       "      <td>Germany</td>\n",
       "    </tr>\n",
       "    <tr>\n",
       "      <th>3</th>\n",
       "      <td>579345</td>\n",
       "      <td>22728</td>\n",
       "      <td>ALARM CLOCK BAKELIKE PINK</td>\n",
       "      <td>8</td>\n",
       "      <td>11/29/2011 11:46</td>\n",
       "      <td>3.75</td>\n",
       "      <td>12727.0</td>\n",
       "      <td>France</td>\n",
       "    </tr>\n",
       "    <tr>\n",
       "      <th>4</th>\n",
       "      <td>564039</td>\n",
       "      <td>21731</td>\n",
       "      <td>RED TOADSTOOL LED NIGHT LIGHT</td>\n",
       "      <td>12</td>\n",
       "      <td>8/22/2011 12:40</td>\n",
       "      <td>1.65</td>\n",
       "      <td>12645.0</td>\n",
       "      <td>Germany</td>\n",
       "    </tr>\n",
       "  </tbody>\n",
       "</table>\n",
       "</div>"
      ],
      "text/plain": [
       "  InvoiceNo StockCode                    Description  Quantity  \\\n",
       "0    565857     84879  ASSORTED COLOUR BIRD ORNAMENT        16   \n",
       "1    560452     22432        WATERING CAN PINK BUNNY         6   \n",
       "2    578509     22492        MINI PAINT SET VINTAGE         36   \n",
       "3    579345     22728      ALARM CLOCK BAKELIKE PINK         8   \n",
       "4    564039     21731  RED TOADSTOOL LED NIGHT LIGHT        12   \n",
       "\n",
       "        InvoiceDate  UnitPrice  CustomerID  Country  \n",
       "0    9/7/2011 14:13       1.69     14911.0     EIRE  \n",
       "1    7/19/2011 9:51       1.95     12682.0   France  \n",
       "2  11/24/2011 13:17       0.65     12705.0  Germany  \n",
       "3  11/29/2011 11:46       3.75     12727.0   France  \n",
       "4   8/22/2011 12:40       1.65     12645.0  Germany  "
      ]
     },
     "execution_count": 1,
     "metadata": {},
     "output_type": "execute_result"
    }
   ],
   "source": [
    "import pandas as pd\n",
    "\n",
    "df= pd.read_csv('https://raw.githubusercontent.com/Datamanim/datarepo/main/adp/25/problem1.csv')\n",
    "df.head()"
   ]
  },
  {
   "cell_type": "markdown",
   "id": "49138ade",
   "metadata": {},
   "source": [
    "```{admonition} 2번\n",
    "**시계열분석**     \n",
    "- 2.1 EDA와 시각화를 진행하라\n",
    "- 2.2 결측치 처리와 해당 결측치 처리 방식에 대한 논리적 근거를 제시하라\n",
    "- 2.3 계절성을 반영한 시계열 모델을 제시하고 정확도 측면에서 모델 성능 평가 할 것\n",
    "- 2.4 분석 결과 활용 가능 여부에 대한 분석 전문가로서의 제안\n",
    "\n",
    "```"
   ]
  },
  {
   "cell_type": "code",
   "execution_count": 4,
   "id": "48e81b3d",
   "metadata": {
    "ExecuteTime": {
     "end_time": "2022-09-04T04:59:53.353886Z",
     "start_time": "2022-09-04T04:59:52.069005Z"
    },
    "tags": [
     "hide-input"
    ]
   },
   "outputs": [
    {
     "data": {
      "text/html": [
       "<div>\n",
       "<style scoped>\n",
       "    .dataframe tbody tr th:only-of-type {\n",
       "        vertical-align: middle;\n",
       "    }\n",
       "\n",
       "    .dataframe tbody tr th {\n",
       "        vertical-align: top;\n",
       "    }\n",
       "\n",
       "    .dataframe thead th {\n",
       "        text-align: right;\n",
       "    }\n",
       "</style>\n",
       "<table border=\"1\" class=\"dataframe\">\n",
       "  <thead>\n",
       "    <tr style=\"text-align: right;\">\n",
       "      <th></th>\n",
       "      <th>counts</th>\n",
       "    </tr>\n",
       "  </thead>\n",
       "  <tbody>\n",
       "    <tr>\n",
       "      <th>0</th>\n",
       "      <td>544.3</td>\n",
       "    </tr>\n",
       "    <tr>\n",
       "      <th>1</th>\n",
       "      <td>603.1</td>\n",
       "    </tr>\n",
       "    <tr>\n",
       "      <th>2</th>\n",
       "      <td>NaN</td>\n",
       "    </tr>\n",
       "    <tr>\n",
       "      <th>3</th>\n",
       "      <td>533.4</td>\n",
       "    </tr>\n",
       "    <tr>\n",
       "      <th>4</th>\n",
       "      <td>619.5</td>\n",
       "    </tr>\n",
       "  </tbody>\n",
       "</table>\n",
       "</div>"
      ],
      "text/plain": [
       "   counts\n",
       "0   544.3\n",
       "1   603.1\n",
       "2     NaN\n",
       "3   533.4\n",
       "4   619.5"
      ]
     },
     "execution_count": 4,
     "metadata": {},
     "output_type": "execute_result"
    }
   ],
   "source": [
    "import pandas as pd\n",
    "\n",
    "df= pd.read_csv('https://raw.githubusercontent.com/Datamanim/datarepo/main/adp/25/problem2.csv',index_col = 0)\n",
    "df.head()"
   ]
  },
  {
   "cell_type": "markdown",
   "id": "d9842a27",
   "metadata": {},
   "source": [
    "```{admonition} 3번\n",
    "**통계문제**     \n",
    "```"
   ]
  },
  {
   "cell_type": "markdown",
   "id": "8ae7aed4",
   "metadata": {},
   "source": [
    "```{admonition} 3-1번\n",
    "**서울에서 영동까지 100km/h로 가고 영동에서 서울까지 80km/로 돌아왔을 때, 평균 속도는?**\n",
    "```"
   ]
  },
  {
   "cell_type": "code",
   "execution_count": 5,
   "id": "6f9de91e",
   "metadata": {
    "ExecuteTime": {
     "end_time": "2022-09-04T04:59:53.353886Z",
     "start_time": "2022-09-04T04:59:52.069005Z"
    },
    "tags": [
     "hide-input"
    ]
   },
   "outputs": [],
   "source": [
    "### "
   ]
  },
  {
   "cell_type": "markdown",
   "id": "a4511a7a",
   "metadata": {},
   "source": [
    "```{admonition} 3-2번\n",
    "**연매출이 3000, 4000, 5000이었다면 연평균 몇배가 증가한 것인가?**\n",
    "```"
   ]
  },
  {
   "cell_type": "code",
   "execution_count": 5,
   "id": "33e85cca",
   "metadata": {
    "ExecuteTime": {
     "end_time": "2022-09-04T04:59:53.353886Z",
     "start_time": "2022-09-04T04:59:52.069005Z"
    },
    "tags": [
     "hide-input"
    ]
   },
   "outputs": [],
   "source": [
    "### "
   ]
  },
  {
   "cell_type": "markdown",
   "id": "44c7c905",
   "metadata": {},
   "source": [
    "```{admonition} 3-3번\n",
    "**남성, 여성의 등산, 수영에 대한 취미 선호도 빈도표(2x2)를 보고, 남성 중에서 등산을 좋아할 확률을 구하시오**\n",
    "```"
   ]
  },
  {
   "cell_type": "markdown",
   "id": "b9e3e018",
   "metadata": {},
   "source": [
    "![image](https://github.com/Datamanim/datarepo/blob/main/adp/25/problem3_3.png?raw=true)"
   ]
  },
  {
   "cell_type": "code",
   "execution_count": 5,
   "id": "086fc06a",
   "metadata": {
    "ExecuteTime": {
     "end_time": "2022-09-04T04:59:53.353886Z",
     "start_time": "2022-09-04T04:59:52.069005Z"
    },
    "tags": [
     "hide-input"
    ]
   },
   "outputs": [],
   "source": [
    "### "
   ]
  },
  {
   "cell_type": "markdown",
   "id": "cdda7488",
   "metadata": {},
   "source": [
    "```{admonition} 3-4번\n",
    "**표본 10개의 분산이 90일 때 신뢰도 95%로 모분산의 신뢰구간을 추정**\n",
    "```"
   ]
  },
  {
   "cell_type": "code",
   "execution_count": 5,
   "id": "a8a441b7",
   "metadata": {
    "ExecuteTime": {
     "end_time": "2022-09-04T04:59:53.353886Z",
     "start_time": "2022-09-04T04:59:52.069005Z"
    },
    "tags": [
     "hide-input"
    ]
   },
   "outputs": [],
   "source": [
    "### "
   ]
  },
  {
   "cell_type": "markdown",
   "id": "bdbbb3ab",
   "metadata": {},
   "source": [
    "```{admonition} 4번\n",
    "**4번 임상 대상 20명에 대해 혈압약 투약 이전과 이후의 차이가 24, 표준편차 9  신뢰구간 95%, 차이가 존재하는지 확인하려한다**     \n",
    "- 4.1 귀무가설과 연구가설을 제시하시오\n",
    "- 4.2 검정 후 귀무가설 기각 여부 제시\n",
    "\n",
    "```"
   ]
  },
  {
   "cell_type": "code",
   "execution_count": 6,
   "id": "4e14fd7f",
   "metadata": {
    "ExecuteTime": {
     "end_time": "2022-09-04T04:59:53.353886Z",
     "start_time": "2022-09-04T04:59:52.069005Z"
    },
    "tags": [
     "hide-input"
    ]
   },
   "outputs": [],
   "source": [
    "### "
   ]
  },
  {
   "cell_type": "markdown",
   "id": "a0709249",
   "metadata": {},
   "source": [
    "```{admonition} 5번\n",
    "**공장 X,Y,Z의 평균 출하 소요시간을 여러 일자에 거쳐 측정한 데이터이다. 각 공장의 중위수의 차이가 존재하는지 확인하려 한다**     \n",
    "- 5.1 귀무가설과 연구가설을 제시하시오\n",
    "- 5.2 검정 후 귀무가설 기각 여부 제시\n",
    "\n",
    "```"
   ]
  },
  {
   "cell_type": "code",
   "execution_count": 11,
   "id": "865e967d",
   "metadata": {
    "ExecuteTime": {
     "end_time": "2022-09-04T04:59:53.353886Z",
     "start_time": "2022-09-04T04:59:52.069005Z"
    },
    "scrolled": true,
    "tags": [
     "hide-input"
    ]
   },
   "outputs": [
    {
     "data": {
      "text/html": [
       "<div>\n",
       "<style scoped>\n",
       "    .dataframe tbody tr th:only-of-type {\n",
       "        vertical-align: middle;\n",
       "    }\n",
       "\n",
       "    .dataframe tbody tr th {\n",
       "        vertical-align: top;\n",
       "    }\n",
       "\n",
       "    .dataframe thead th {\n",
       "        text-align: right;\n",
       "    }\n",
       "</style>\n",
       "<table border=\"1\" class=\"dataframe\">\n",
       "  <thead>\n",
       "    <tr style=\"text-align: right;\">\n",
       "      <th></th>\n",
       "      <th>출하 소요시간</th>\n",
       "      <th>공장명</th>\n",
       "      <th>공장별 출하 소요시간 순위</th>\n",
       "    </tr>\n",
       "  </thead>\n",
       "  <tbody>\n",
       "    <tr>\n",
       "      <th>0</th>\n",
       "      <td>71</td>\n",
       "      <td>Z</td>\n",
       "      <td>11</td>\n",
       "    </tr>\n",
       "    <tr>\n",
       "      <th>1</th>\n",
       "      <td>75</td>\n",
       "      <td>X</td>\n",
       "      <td>14</td>\n",
       "    </tr>\n",
       "    <tr>\n",
       "      <th>2</th>\n",
       "      <td>71</td>\n",
       "      <td>X</td>\n",
       "      <td>12</td>\n",
       "    </tr>\n",
       "    <tr>\n",
       "      <th>3</th>\n",
       "      <td>53</td>\n",
       "      <td>Z</td>\n",
       "      <td>1</td>\n",
       "    </tr>\n",
       "    <tr>\n",
       "      <th>4</th>\n",
       "      <td>50</td>\n",
       "      <td>X</td>\n",
       "      <td>1</td>\n",
       "    </tr>\n",
       "  </tbody>\n",
       "</table>\n",
       "</div>"
      ],
      "text/plain": [
       "   출하 소요시간 공장명  공장별 출하 소요시간 순위\n",
       "0       71   Z              11\n",
       "1       75   X              14\n",
       "2       71   X              12\n",
       "3       53   Z               1\n",
       "4       50   X               1"
      ]
     },
     "execution_count": 11,
     "metadata": {},
     "output_type": "execute_result"
    }
   ],
   "source": [
    "import pandas as pd\n",
    "df= pd.read_csv('https://raw.githubusercontent.com/Datamanim/datarepo/main/adp/25/problem5.csv',encoding='cp949')\n",
    "df.head()"
   ]
  },
  {
   "cell_type": "markdown",
   "id": "652bca2f",
   "metadata": {},
   "source": [
    "```{admonition} 6번\n",
    "**1개년 50억원, 2개년 60억원, 3개년 70억원의 예산을 가지고 NPV(순현재가치)가 가장 높아지는 안을 제시하시오**     \n",
    "\n",
    "```"
   ]
  },
  {
   "cell_type": "markdown",
   "id": "318007dd",
   "metadata": {
    "ExecuteTime": {
     "end_time": "2022-09-04T04:59:53.353886Z",
     "start_time": "2022-09-04T04:59:52.069005Z"
    },
    "tags": [
     "hide-input"
    ]
   },
   "source": [
    "![image](https://github.com/Datamanim/datarepo/blob/main/adp/25/problem6.png?raw=true)"
   ]
  },
  {
   "cell_type": "markdown",
   "id": "9254fd2e",
   "metadata": {},
   "source": [
    "이 포스팅은 쿠팡 파트너스 활동의 일환으로, 이에 따른 일정액의 수수료를 제공받습니다"
   ]
  }
 ],
 "metadata": {
  "celltoolbar": "Edit Metadata",
  "kernelspec": {
   "display_name": "Python 3 (ipykernel)",
   "language": "python",
   "name": "python3"
  },
  "language_info": {
   "codemirror_mode": {
    "name": "ipython",
    "version": 3
   },
   "file_extension": ".py",
   "mimetype": "text/x-python",
   "name": "python",
   "nbconvert_exporter": "python",
   "pygments_lexer": "ipython3",
   "version": "3.8.18"
  }
 },
 "nbformat": 4,
 "nbformat_minor": 5
}
