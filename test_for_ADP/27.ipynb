{
 "cells": [
  {
   "cell_type": "markdown",
   "id": "0a308b4f",
   "metadata": {},
   "source": [
    "# ADP 27회 실기 문제"
   ]
  },
  {
   "cell_type": "markdown",
   "id": "f2587d47",
   "metadata": {},
   "source": [
    "[![Hits](https://hits.seeyoufarm.com/api/count/incr/badge.svg?url=https%3A%2F%2Fwww.datamanim.com%2Fdataset%2FADPpb%2F00%2F27.html&count_bg=%23582382&title_bg=%23555555&icon=&icon_color=%23E7E7E7&title=hits&edge_flat=false)](https://hits.seeyoufarm.com)"
   ]
  },
  {
   "cell_type": "markdown",
   "id": "93218ea6",
   "metadata": {},
   "source": [
    "```{admonition} 1번\n",
    "**데이터 확인 및 전처리**     \n",
    "- 1.1 EDA 데이터 탐색\n",
    "- 1.2 변수간 상관관계를 시각화하고 전처리가 필요함을 설명하라\n",
    "\n",
    "- 출처\n",
    "    - https://www.kaggle.com/datasets/mlg-ulb/creditcardfraud (후처리)\n",
    "```"
   ]
  },
  {
   "cell_type": "code",
   "execution_count": 4,
   "id": "6d395d47",
   "metadata": {
    "ExecuteTime": {
     "end_time": "2022-09-04T04:59:53.353886Z",
     "start_time": "2022-09-04T04:59:52.069005Z"
    },
    "scrolled": true,
    "tags": [
     "hide-input"
    ]
   },
   "outputs": [
    {
     "data": {
      "text/html": [
       "<div>\n",
       "<style scoped>\n",
       "    .dataframe tbody tr th:only-of-type {\n",
       "        vertical-align: middle;\n",
       "    }\n",
       "\n",
       "    .dataframe tbody tr th {\n",
       "        vertical-align: top;\n",
       "    }\n",
       "\n",
       "    .dataframe thead th {\n",
       "        text-align: right;\n",
       "    }\n",
       "</style>\n",
       "<table border=\"1\" class=\"dataframe\">\n",
       "  <thead>\n",
       "    <tr style=\"text-align: right;\">\n",
       "      <th></th>\n",
       "      <th>Time</th>\n",
       "      <th>V1</th>\n",
       "      <th>V2</th>\n",
       "      <th>V3</th>\n",
       "      <th>V4</th>\n",
       "      <th>V5</th>\n",
       "      <th>V6</th>\n",
       "      <th>V7</th>\n",
       "      <th>V8</th>\n",
       "      <th>V9</th>\n",
       "      <th>V10</th>\n",
       "      <th>V11</th>\n",
       "      <th>V12</th>\n",
       "      <th>V13</th>\n",
       "      <th>V14</th>\n",
       "      <th>V15</th>\n",
       "      <th>V16</th>\n",
       "      <th>V17</th>\n",
       "      <th>Amount</th>\n",
       "      <th>Class</th>\n",
       "    </tr>\n",
       "  </thead>\n",
       "  <tbody>\n",
       "    <tr>\n",
       "      <th>0</th>\n",
       "      <td>60.0</td>\n",
       "      <td>1.069141</td>\n",
       "      <td>0.043786</td>\n",
       "      <td>0.309867</td>\n",
       "      <td>1.316694</td>\n",
       "      <td>-0.462394</td>\n",
       "      <td>-0.857888</td>\n",
       "      <td>0.207904</td>\n",
       "      <td>-0.191270</td>\n",
       "      <td>0.056398</td>\n",
       "      <td>0.041567</td>\n",
       "      <td>-0.507358</td>\n",
       "      <td>-0.108666</td>\n",
       "      <td>-0.473257</td>\n",
       "      <td>0.452046</td>\n",
       "      <td>1.005675</td>\n",
       "      <td>0.185441</td>\n",
       "      <td>-0.439976</td>\n",
       "      <td>89.40</td>\n",
       "      <td>0</td>\n",
       "    </tr>\n",
       "    <tr>\n",
       "      <th>1</th>\n",
       "      <td>406.0</td>\n",
       "      <td>-2.312227</td>\n",
       "      <td>1.951992</td>\n",
       "      <td>-1.609851</td>\n",
       "      <td>3.997906</td>\n",
       "      <td>-0.522188</td>\n",
       "      <td>-1.426545</td>\n",
       "      <td>-2.537387</td>\n",
       "      <td>1.391657</td>\n",
       "      <td>-2.770089</td>\n",
       "      <td>-2.772272</td>\n",
       "      <td>3.202033</td>\n",
       "      <td>-2.899907</td>\n",
       "      <td>-0.595222</td>\n",
       "      <td>-4.289254</td>\n",
       "      <td>0.389724</td>\n",
       "      <td>-1.140747</td>\n",
       "      <td>-2.830056</td>\n",
       "      <td>0.00</td>\n",
       "      <td>1</td>\n",
       "    </tr>\n",
       "    <tr>\n",
       "      <th>2</th>\n",
       "      <td>426.0</td>\n",
       "      <td>-1.932055</td>\n",
       "      <td>1.724618</td>\n",
       "      <td>1.288229</td>\n",
       "      <td>-0.396998</td>\n",
       "      <td>-0.140202</td>\n",
       "      <td>2.470521</td>\n",
       "      <td>-1.865298</td>\n",
       "      <td>-5.186855</td>\n",
       "      <td>0.794764</td>\n",
       "      <td>0.155379</td>\n",
       "      <td>0.034517</td>\n",
       "      <td>0.906738</td>\n",
       "      <td>-0.027172</td>\n",
       "      <td>-0.404303</td>\n",
       "      <td>-0.473949</td>\n",
       "      <td>0.274034</td>\n",
       "      <td>-0.222340</td>\n",
       "      <td>16.19</td>\n",
       "      <td>0</td>\n",
       "    </tr>\n",
       "    <tr>\n",
       "      <th>3</th>\n",
       "      <td>472.0</td>\n",
       "      <td>-3.043541</td>\n",
       "      <td>-3.157307</td>\n",
       "      <td>1.088463</td>\n",
       "      <td>2.288644</td>\n",
       "      <td>1.359805</td>\n",
       "      <td>-1.064823</td>\n",
       "      <td>0.325574</td>\n",
       "      <td>-0.067794</td>\n",
       "      <td>-0.270953</td>\n",
       "      <td>-0.838587</td>\n",
       "      <td>-0.414575</td>\n",
       "      <td>-0.503141</td>\n",
       "      <td>0.676502</td>\n",
       "      <td>-1.692029</td>\n",
       "      <td>2.000635</td>\n",
       "      <td>0.666780</td>\n",
       "      <td>0.599717</td>\n",
       "      <td>529.00</td>\n",
       "      <td>1</td>\n",
       "    </tr>\n",
       "    <tr>\n",
       "      <th>4</th>\n",
       "      <td>674.0</td>\n",
       "      <td>-0.719065</td>\n",
       "      <td>0.638954</td>\n",
       "      <td>0.686335</td>\n",
       "      <td>-0.023240</td>\n",
       "      <td>2.317890</td>\n",
       "      <td>3.871978</td>\n",
       "      <td>-0.312797</td>\n",
       "      <td>1.089780</td>\n",
       "      <td>-0.596925</td>\n",
       "      <td>-0.006142</td>\n",
       "      <td>-0.242883</td>\n",
       "      <td>-0.384491</td>\n",
       "      <td>0.109079</td>\n",
       "      <td>0.187565</td>\n",
       "      <td>1.823472</td>\n",
       "      <td>0.274346</td>\n",
       "      <td>-0.697730</td>\n",
       "      <td>22.00</td>\n",
       "      <td>0</td>\n",
       "    </tr>\n",
       "  </tbody>\n",
       "</table>\n",
       "</div>"
      ],
      "text/plain": [
       "    Time        V1        V2        V3        V4        V5        V6  \\\n",
       "0   60.0  1.069141  0.043786  0.309867  1.316694 -0.462394 -0.857888   \n",
       "1  406.0 -2.312227  1.951992 -1.609851  3.997906 -0.522188 -1.426545   \n",
       "2  426.0 -1.932055  1.724618  1.288229 -0.396998 -0.140202  2.470521   \n",
       "3  472.0 -3.043541 -3.157307  1.088463  2.288644  1.359805 -1.064823   \n",
       "4  674.0 -0.719065  0.638954  0.686335 -0.023240  2.317890  3.871978   \n",
       "\n",
       "         V7        V8        V9       V10       V11       V12       V13  \\\n",
       "0  0.207904 -0.191270  0.056398  0.041567 -0.507358 -0.108666 -0.473257   \n",
       "1 -2.537387  1.391657 -2.770089 -2.772272  3.202033 -2.899907 -0.595222   \n",
       "2 -1.865298 -5.186855  0.794764  0.155379  0.034517  0.906738 -0.027172   \n",
       "3  0.325574 -0.067794 -0.270953 -0.838587 -0.414575 -0.503141  0.676502   \n",
       "4 -0.312797  1.089780 -0.596925 -0.006142 -0.242883 -0.384491  0.109079   \n",
       "\n",
       "        V14       V15       V16       V17  Amount  Class  \n",
       "0  0.452046  1.005675  0.185441 -0.439976   89.40      0  \n",
       "1 -4.289254  0.389724 -1.140747 -2.830056    0.00      1  \n",
       "2 -0.404303 -0.473949  0.274034 -0.222340   16.19      0  \n",
       "3 -1.692029  2.000635  0.666780  0.599717  529.00      1  \n",
       "4  0.187565  1.823472  0.274346 -0.697730   22.00      0  "
      ]
     },
     "execution_count": 4,
     "metadata": {},
     "output_type": "execute_result"
    }
   ],
   "source": [
    "import pandas as pd\n",
    "\n",
    "df= pd.read_csv('https://raw.githubusercontent.com/Datamanim/datarepo/main/adp/27/problem1.csv')\n",
    "df.head()"
   ]
  },
  {
   "cell_type": "markdown",
   "id": "9006339f",
   "metadata": {},
   "source": [
    "```{admonition} 2번\n",
    "**차원축소 (1번이어서)**     \n",
    "- 2.1 차원축소 방법 2가지 이상 비교하고 한가지 선택\n",
    "- 2.2 추천한 한 가지를 실제로 수행하고 선택한 이유 설명\n",
    "```"
   ]
  },
  {
   "cell_type": "code",
   "execution_count": 5,
   "id": "3304ab7b",
   "metadata": {
    "ExecuteTime": {
     "end_time": "2022-09-04T04:59:53.353886Z",
     "start_time": "2022-09-04T04:59:52.069005Z"
    },
    "tags": [
     "hide-input"
    ]
   },
   "outputs": [],
   "source": [
    "###"
   ]
  },
  {
   "cell_type": "markdown",
   "id": "78ae9dc1",
   "metadata": {},
   "source": [
    "```{admonition} 3번\n",
    "**오버샘플링/언더샘플링 (1번이어서)**     \n",
    "- 3.1 오버샘플링과 언더샘플링 장단점 비교 및 선택 구현\n",
    "- 3.2 구현 및 알고리즘 2가지 이상 비교, 성능 측정\n",
    "- 3.3 현재까지 전처리한 데이터를 통해 모델 수행 후 결과 분석\n",
    "```"
   ]
  },
  {
   "cell_type": "code",
   "execution_count": 6,
   "id": "48619ef1",
   "metadata": {
    "ExecuteTime": {
     "end_time": "2022-09-04T04:59:53.353886Z",
     "start_time": "2022-09-04T04:59:52.069005Z"
    },
    "tags": [
     "hide-input"
    ]
   },
   "outputs": [],
   "source": [
    "###"
   ]
  },
  {
   "cell_type": "markdown",
   "id": "8a7eade4",
   "metadata": {},
   "source": [
    "```{admonition} 4번\n",
    "**이상탐지 (1번이어서)**     \n",
    "- 4.1 이상탐지 모델 2가지 이상 기술, 장/단점 설명\n",
    "- 4.2 2번에서 만든 데이터로 한 가지 이상탐지 모델을 구현하고, 3번에서 만든 모델과 비교\n",
    "- 4.3 데이터분석과 관점에서 3번에서 만든 모델과 4번에서 만든 모델 설명\n",
    "```"
   ]
  },
  {
   "cell_type": "code",
   "execution_count": 7,
   "id": "59918eb1",
   "metadata": {
    "ExecuteTime": {
     "end_time": "2022-09-04T04:59:53.353886Z",
     "start_time": "2022-09-04T04:59:52.069005Z"
    },
    "tags": [
     "hide-input"
    ]
   },
   "outputs": [],
   "source": [
    "###"
   ]
  },
  {
   "cell_type": "markdown",
   "id": "e97ce134",
   "metadata": {},
   "source": [
    "```{admonition} 5번\n",
    "**2년 전 제품 생산량이 100,000개, 1년 전 제품 생산량이 150,000개, 그 후 팩토리 기술의 상승으로 제품 생산량이 250,000개 되었을 때, 연평균 상승률의 대푯값을 구하시오. (반올림하여 소수점 아래 둘째자리까지 표기하시오.)**     \n",
    "```"
   ]
  },
  {
   "cell_type": "code",
   "execution_count": 8,
   "id": "d2b6cfcb",
   "metadata": {
    "ExecuteTime": {
     "end_time": "2022-09-04T04:59:53.353886Z",
     "start_time": "2022-09-04T04:59:52.069005Z"
    },
    "tags": [
     "hide-input"
    ]
   },
   "outputs": [],
   "source": [
    "###"
   ]
  },
  {
   "cell_type": "markdown",
   "id": "cf5f55bf",
   "metadata": {},
   "source": [
    "```{admonition} 6번\n",
    "**12건의 광고 시간 측정. 평균 15.5초, 분산 3.2초 일때 90% 신뢰구간은?**     \n",
    "```"
   ]
  },
  {
   "cell_type": "code",
   "execution_count": 9,
   "id": "84cf2668",
   "metadata": {
    "ExecuteTime": {
     "end_time": "2022-09-04T04:59:53.353886Z",
     "start_time": "2022-09-04T04:59:52.069005Z"
    },
    "tags": [
     "hide-input"
    ]
   },
   "outputs": [],
   "source": [
    "###"
   ]
  },
  {
   "cell_type": "markdown",
   "id": "4342d882",
   "metadata": {},
   "source": [
    "```{admonition} 7번\n",
    "**강의 상류와 하류의 생물 다양성 점수에 차이가 있는지 검정하시오. (단, 같은 강에서 상류와 하류는 서로 독립적이지 않으며, 종속적인 관계에 있다.)**\n",
    "- 7.1 귀무가설과 대립가설을 세우시오\n",
    "- 7.2 검정 통계량과 유의 확률을 구하고, 연구가설 채택여부를 검정하시오.\n",
    "```"
   ]
  },
  {
   "cell_type": "code",
   "execution_count": 11,
   "id": "3d75acab",
   "metadata": {
    "ExecuteTime": {
     "end_time": "2022-09-04T04:59:53.353886Z",
     "start_time": "2022-09-04T04:59:52.069005Z"
    },
    "tags": [
     "hide-input"
    ]
   },
   "outputs": [
    {
     "data": {
      "text/html": [
       "<div>\n",
       "<style scoped>\n",
       "    .dataframe tbody tr th:only-of-type {\n",
       "        vertical-align: middle;\n",
       "    }\n",
       "\n",
       "    .dataframe tbody tr th {\n",
       "        vertical-align: top;\n",
       "    }\n",
       "\n",
       "    .dataframe thead th {\n",
       "        text-align: right;\n",
       "    }\n",
       "</style>\n",
       "<table border=\"1\" class=\"dataframe\">\n",
       "  <thead>\n",
       "    <tr style=\"text-align: right;\">\n",
       "      <th></th>\n",
       "      <th>River</th>\n",
       "      <th>up</th>\n",
       "      <th>down</th>\n",
       "    </tr>\n",
       "  </thead>\n",
       "  <tbody>\n",
       "    <tr>\n",
       "      <th>0</th>\n",
       "      <td>A</td>\n",
       "      <td>57.1</td>\n",
       "      <td>45.7</td>\n",
       "    </tr>\n",
       "    <tr>\n",
       "      <th>1</th>\n",
       "      <td>B</td>\n",
       "      <td>51.6</td>\n",
       "      <td>37.2</td>\n",
       "    </tr>\n",
       "    <tr>\n",
       "      <th>2</th>\n",
       "      <td>C</td>\n",
       "      <td>53.9</td>\n",
       "      <td>53.3</td>\n",
       "    </tr>\n",
       "    <tr>\n",
       "      <th>3</th>\n",
       "      <td>D</td>\n",
       "      <td>59.0</td>\n",
       "      <td>54.3</td>\n",
       "    </tr>\n",
       "    <tr>\n",
       "      <th>4</th>\n",
       "      <td>E</td>\n",
       "      <td>57.5</td>\n",
       "      <td>46.3</td>\n",
       "    </tr>\n",
       "  </tbody>\n",
       "</table>\n",
       "</div>"
      ],
      "text/plain": [
       "  River    up  down\n",
       "0     A  57.1  45.7\n",
       "1     B  51.6  37.2\n",
       "2     C  53.9  53.3\n",
       "3     D  59.0  54.3\n",
       "4     E  57.5  46.3"
      ]
     },
     "execution_count": 11,
     "metadata": {},
     "output_type": "execute_result"
    }
   ],
   "source": [
    "import pandas as pd\n",
    "\n",
    "df= pd.read_csv('https://raw.githubusercontent.com/Datamanim/datarepo/main/adp/27/river.csv')\n",
    "df.head()"
   ]
  },
  {
   "cell_type": "markdown",
   "id": "0350aa79",
   "metadata": {},
   "source": [
    "```{admonition} 8번\n",
    "**user_counts를 종속변수로 하는 데이터이다**\n",
    "- 8.1 분위수 회귀분석 (Quantile Regression) 을 사용하여 회귀 계수를 구하시오. (반올림하여 소수점 아래 둘째자리까지 표기하시오.)\n",
    "- 8.2 8.1의 모델의 회귀계수를 활용하여 temperature : 10.5 , wind : 8.2 , precipitation : 3.5 일때 user_counts를 예측하시오 \n",
    "```"
   ]
  },
  {
   "cell_type": "code",
   "execution_count": 16,
   "id": "ab953f25",
   "metadata": {
    "ExecuteTime": {
     "end_time": "2022-09-04T04:59:53.353886Z",
     "start_time": "2022-09-04T04:59:52.069005Z"
    },
    "tags": [
     "hide-input"
    ]
   },
   "outputs": [
    {
     "data": {
      "text/html": [
       "<div>\n",
       "<style scoped>\n",
       "    .dataframe tbody tr th:only-of-type {\n",
       "        vertical-align: middle;\n",
       "    }\n",
       "\n",
       "    .dataframe tbody tr th {\n",
       "        vertical-align: top;\n",
       "    }\n",
       "\n",
       "    .dataframe thead th {\n",
       "        text-align: right;\n",
       "    }\n",
       "</style>\n",
       "<table border=\"1\" class=\"dataframe\">\n",
       "  <thead>\n",
       "    <tr style=\"text-align: right;\">\n",
       "      <th></th>\n",
       "      <th>temperature</th>\n",
       "      <th>wind</th>\n",
       "      <th>precipitation</th>\n",
       "      <th>user_counts</th>\n",
       "    </tr>\n",
       "  </thead>\n",
       "  <tbody>\n",
       "    <tr>\n",
       "      <th>0</th>\n",
       "      <td>10.400000</td>\n",
       "      <td>4.600</td>\n",
       "      <td>0.844944</td>\n",
       "      <td>6368</td>\n",
       "    </tr>\n",
       "    <tr>\n",
       "      <th>1</th>\n",
       "      <td>5.666667</td>\n",
       "      <td>4.625</td>\n",
       "      <td>0.040860</td>\n",
       "      <td>5902</td>\n",
       "    </tr>\n",
       "    <tr>\n",
       "      <th>2</th>\n",
       "      <td>4.933333</td>\n",
       "      <td>4.725</td>\n",
       "      <td>0.008696</td>\n",
       "      <td>6226</td>\n",
       "    </tr>\n",
       "    <tr>\n",
       "      <th>3</th>\n",
       "      <td>3.400000</td>\n",
       "      <td>2.675</td>\n",
       "      <td>0.156989</td>\n",
       "      <td>5829</td>\n",
       "    </tr>\n",
       "    <tr>\n",
       "      <th>4</th>\n",
       "      <td>8.900000</td>\n",
       "      <td>3.950</td>\n",
       "      <td>7.988462</td>\n",
       "      <td>7589</td>\n",
       "    </tr>\n",
       "  </tbody>\n",
       "</table>\n",
       "</div>"
      ],
      "text/plain": [
       "   temperature   wind  precipitation  user_counts\n",
       "0    10.400000  4.600       0.844944         6368\n",
       "1     5.666667  4.625       0.040860         5902\n",
       "2     4.933333  4.725       0.008696         6226\n",
       "3     3.400000  2.675       0.156989         5829\n",
       "4     8.900000  3.950       7.988462         7589"
      ]
     },
     "execution_count": 16,
     "metadata": {},
     "output_type": "execute_result"
    }
   ],
   "source": [
    "import pandas as pd\n",
    "\n",
    "df= pd.read_csv('https://raw.githubusercontent.com/Datamanim/datarepo/main/adp/27/problem8.csv')\n",
    "df.head()"
   ]
  },
  {
   "cell_type": "markdown",
   "id": "a40f12e3",
   "metadata": {},
   "source": [
    "```{admonition} 9번\n",
    "**지하철 호선과 월별, 승객 수 간 상관관계가 있는지 확인(Type III Anova 사용)**\n",
    "- 9.1 귀무가설과 대립가설 설정하라\n",
    "- 9.2 통계량을 구하고, 대립가설 채택여부를 기술하라\n",
    "```"
   ]
  },
  {
   "cell_type": "code",
   "execution_count": 17,
   "id": "4ecb62cc",
   "metadata": {
    "ExecuteTime": {
     "end_time": "2022-09-04T04:59:53.353886Z",
     "start_time": "2022-09-04T04:59:52.069005Z"
    },
    "tags": [
     "hide-input"
    ]
   },
   "outputs": [],
   "source": [
    "###"
   ]
  },
  {
   "cell_type": "markdown",
   "id": "ef985a46",
   "metadata": {},
   "source": [
    "참고사이트 \n",
    "- https://blog.naver.com/clairefromkorea/222938928665\n",
    "- https://amaruak00.github.io/2022/12/17/adp27th.html\n",
    "- https://blog.naver.com/dmz04/222938757841"
   ]
  },
  {
   "cell_type": "markdown",
   "id": "b1479142",
   "metadata": {},
   "source": [
    "이 포스팅은 쿠팡 파트너스 활동의 일환으로, 이에 따른 일정액의 수수료를 제공받습니다"
   ]
  }
 ],
 "metadata": {
  "celltoolbar": "Edit Metadata",
  "kernelspec": {
   "display_name": "Python 3 (ipykernel)",
   "language": "python",
   "name": "python3"
  },
  "language_info": {
   "codemirror_mode": {
    "name": "ipython",
    "version": 3
   },
   "file_extension": ".py",
   "mimetype": "text/x-python",
   "name": "python",
   "nbconvert_exporter": "python",
   "pygments_lexer": "ipython3",
   "version": "3.8.18"
  }
 },
 "nbformat": 4,
 "nbformat_minor": 5
}
