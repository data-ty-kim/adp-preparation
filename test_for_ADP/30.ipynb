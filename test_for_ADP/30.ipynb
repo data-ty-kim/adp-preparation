{
 "cells": [
  {
   "cell_type": "markdown",
   "id": "dcaa42c8",
   "metadata": {},
   "source": [
    "# ADP 30회 실기 문제"
   ]
  },
  {
   "cell_type": "markdown",
   "id": "dd33c5c3",
   "metadata": {},
   "source": [
    "[![Hits](https://hits.seeyoufarm.com/api/count/incr/badge.svg?url=https%3A%2F%2Fwww.datamanim.com%2Fdataset%2FADPpb%2F00%2F30.html&count_bg=%23582382&title_bg=%23555555&icon=&icon_color=%23E7E7E7&title=hits&edge_flat=false)](https://hits.seeyoufarm.com)"
   ]
  },
  {
   "cell_type": "markdown",
   "id": "7143f9e4",
   "metadata": {},
   "source": [
    "```{admonition} 데이터설명\n",
    "- 데이터 출처 : 캐글어딘가.. 후처리\n",
    "- 데이터 링크 : https://raw.githubusercontent.com/Datamanim/datarepo/main/adp/30/p1.csv\n",
    "- 데이터 설명 : 혈압 데이터 DBP\n",
    "- 종속변수 : DBP\n",
    "```"
   ]
  },
  {
   "cell_type": "code",
   "execution_count": 7,
   "id": "6b12a4c5",
   "metadata": {},
   "outputs": [
    {
     "data": {
      "text/html": [
       "<div>\n",
       "<style scoped>\n",
       "    .dataframe tbody tr th:only-of-type {\n",
       "        vertical-align: middle;\n",
       "    }\n",
       "\n",
       "    .dataframe tbody tr th {\n",
       "        vertical-align: top;\n",
       "    }\n",
       "\n",
       "    .dataframe thead th {\n",
       "        text-align: right;\n",
       "    }\n",
       "</style>\n",
       "<table border=\"1\" class=\"dataframe\">\n",
       "  <thead>\n",
       "    <tr style=\"text-align: right;\">\n",
       "      <th></th>\n",
       "      <th>Age</th>\n",
       "      <th>Gender</th>\n",
       "      <th>BMI</th>\n",
       "      <th>DBP</th>\n",
       "      <th>FPG</th>\n",
       "      <th>Chol</th>\n",
       "      <th>Tri</th>\n",
       "      <th>HDL</th>\n",
       "      <th>LDL</th>\n",
       "      <th>ALT</th>\n",
       "      <th>CCR</th>\n",
       "      <th>FFPG</th>\n",
       "    </tr>\n",
       "  </thead>\n",
       "  <tbody>\n",
       "    <tr>\n",
       "      <th>0</th>\n",
       "      <td>26</td>\n",
       "      <td>1</td>\n",
       "      <td>20.1</td>\n",
       "      <td>81</td>\n",
       "      <td>5.80</td>\n",
       "      <td>4.36</td>\n",
       "      <td>0.86</td>\n",
       "      <td>0.90</td>\n",
       "      <td>2.43</td>\n",
       "      <td>12.0</td>\n",
       "      <td>63.8</td>\n",
       "      <td>5.40</td>\n",
       "    </tr>\n",
       "    <tr>\n",
       "      <th>1</th>\n",
       "      <td>40</td>\n",
       "      <td>1</td>\n",
       "      <td>17.7</td>\n",
       "      <td>54</td>\n",
       "      <td>4.60</td>\n",
       "      <td>3.70</td>\n",
       "      <td>1.02</td>\n",
       "      <td>1.50</td>\n",
       "      <td>2.04</td>\n",
       "      <td>9.2</td>\n",
       "      <td>70.3</td>\n",
       "      <td>4.10</td>\n",
       "    </tr>\n",
       "    <tr>\n",
       "      <th>2</th>\n",
       "      <td>40</td>\n",
       "      <td>2</td>\n",
       "      <td>19.7</td>\n",
       "      <td>53</td>\n",
       "      <td>5.30</td>\n",
       "      <td>5.87</td>\n",
       "      <td>1.29</td>\n",
       "      <td>1.75</td>\n",
       "      <td>3.37</td>\n",
       "      <td>10.1</td>\n",
       "      <td>61.1</td>\n",
       "      <td>4.85</td>\n",
       "    </tr>\n",
       "    <tr>\n",
       "      <th>3</th>\n",
       "      <td>43</td>\n",
       "      <td>1</td>\n",
       "      <td>23.1</td>\n",
       "      <td>71</td>\n",
       "      <td>4.50</td>\n",
       "      <td>4.05</td>\n",
       "      <td>0.74</td>\n",
       "      <td>1.27</td>\n",
       "      <td>2.60</td>\n",
       "      <td>36.5</td>\n",
       "      <td>73.4</td>\n",
       "      <td>5.30</td>\n",
       "    </tr>\n",
       "    <tr>\n",
       "      <th>4</th>\n",
       "      <td>36</td>\n",
       "      <td>1</td>\n",
       "      <td>26.5</td>\n",
       "      <td>82</td>\n",
       "      <td>5.54</td>\n",
       "      <td>6.69</td>\n",
       "      <td>3.49</td>\n",
       "      <td>0.91</td>\n",
       "      <td>3.64</td>\n",
       "      <td>69.3</td>\n",
       "      <td>67.5</td>\n",
       "      <td>5.53</td>\n",
       "    </tr>\n",
       "  </tbody>\n",
       "</table>\n",
       "</div>"
      ],
      "text/plain": [
       "   Age  Gender   BMI  DBP   FPG  Chol   Tri   HDL   LDL   ALT   CCR  FFPG\n",
       "0   26       1  20.1   81  5.80  4.36  0.86  0.90  2.43  12.0  63.8  5.40\n",
       "1   40       1  17.7   54  4.60  3.70  1.02  1.50  2.04   9.2  70.3  4.10\n",
       "2   40       2  19.7   53  5.30  5.87  1.29  1.75  3.37  10.1  61.1  4.85\n",
       "3   43       1  23.1   71  4.50  4.05  0.74  1.27  2.60  36.5  73.4  5.30\n",
       "4   36       1  26.5   82  5.54  6.69  3.49  0.91  3.64  69.3  67.5  5.53"
      ]
     },
     "execution_count": 7,
     "metadata": {},
     "output_type": "execute_result"
    }
   ],
   "source": [
    "import pandas as pd\n",
    "df = pd.read_csv('https://raw.githubusercontent.com/Datamanim/datarepo/main/adp/30/p1.csv')\n",
    "df.head()"
   ]
  },
  {
   "cell_type": "markdown",
   "id": "e5514417",
   "metadata": {},
   "source": [
    "```{admonition} 1-1\n",
    "**EDA를 시행하라**     \n",
    "```"
   ]
  },
  {
   "cell_type": "code",
   "execution_count": 9,
   "id": "3bb60fa3",
   "metadata": {},
   "outputs": [],
   "source": [
    "#"
   ]
  },
  {
   "cell_type": "markdown",
   "id": "8e3a0521",
   "metadata": {},
   "source": [
    "```{admonition} 1-2\n",
    "**데이터 전처리가 필요하다면 수행하고 이유를 작성하라**     \n",
    "```"
   ]
  },
  {
   "cell_type": "code",
   "execution_count": 10,
   "id": "4e3f1c82",
   "metadata": {},
   "outputs": [],
   "source": [
    "#"
   ]
  },
  {
   "cell_type": "markdown",
   "id": "774cd1bf",
   "metadata": {},
   "source": [
    "```{admonition} 1-3\n",
    "**train test set을 DBP컬럼 기준으로 7:3 비율로 나누고 잘 나뉘었는지 통계적으로 나타내라**     \n",
    "```"
   ]
  },
  {
   "cell_type": "code",
   "execution_count": 11,
   "id": "e0666abe",
   "metadata": {},
   "outputs": [],
   "source": [
    "#"
   ]
  },
  {
   "cell_type": "markdown",
   "id": "cd7df727",
   "metadata": {},
   "source": [
    "```{admonition} 2-1\n",
    "**독립변수의 차원축소의 필요성을 논하고, 필요에 따라 차원을 축소하고 불필요하다면 그 근거를 논하시오**           \n",
    "```"
   ]
  },
  {
   "cell_type": "code",
   "execution_count": 12,
   "id": "513068bf",
   "metadata": {},
   "outputs": [],
   "source": [
    "#"
   ]
  },
  {
   "cell_type": "markdown",
   "id": "7202e1b6",
   "metadata": {},
   "source": [
    "```{admonition} 2-1\n",
    "**작업 후 데이터가 회귀분석의 기본가정 따르는지 설명**     \n",
    "```"
   ]
  },
  {
   "cell_type": "code",
   "execution_count": 13,
   "id": "4be990de",
   "metadata": {},
   "outputs": [],
   "source": [
    "#"
   ]
  },
  {
   "cell_type": "markdown",
   "id": "559b4d9b",
   "metadata": {},
   "source": [
    "```{admonition} 3-1\n",
    "**회귀분석 알고리즘 3개를 선택하고 선정이유와 장단점 비교**     \n",
    "```"
   ]
  },
  {
   "cell_type": "code",
   "execution_count": 14,
   "id": "065193fa",
   "metadata": {},
   "outputs": [],
   "source": [
    "#"
   ]
  },
  {
   "cell_type": "markdown",
   "id": "01fcaab9",
   "metadata": {},
   "source": [
    "```{admonition} 3-2\n",
    "**1-3에서 구분한 데이터를 기준으로 3개의 회귀 분석 모델링을 진행하고 평가지표 rmse로 가장 최적화된 알고리즘 선정**     \n",
    "```"
   ]
  },
  {
   "cell_type": "code",
   "execution_count": 15,
   "id": "a3672d0a",
   "metadata": {},
   "outputs": [],
   "source": [
    "#"
   ]
  },
  {
   "cell_type": "markdown",
   "id": "e7bb9ef1",
   "metadata": {},
   "source": [
    "```{admonition} 3-3\n",
    "**3-2에서 가장 성능 좋은 알고리즘을 이용하여 K-Fold 교차검증을 수행하시오**     \n",
    "```"
   ]
  },
  {
   "cell_type": "code",
   "execution_count": 16,
   "id": "7836b6dd",
   "metadata": {},
   "outputs": [],
   "source": [
    "#"
   ]
  },
  {
   "cell_type": "markdown",
   "id": "620bc830",
   "metadata": {},
   "source": [
    "```{admonition} 데이터 분석   \n",
    "- 데이터 출처 : https://taas.koroad.or.kr/api/selectOpenApi.do 후처리      \n",
    "- 데이터 링크 : https://raw.githubusercontent.com/Datamanim/datarepo/main/adp/30/p2_v2.csv    \n",
    "- 데이터 설명 : 자전거사고 다발지역 개별사고 정보    \n",
    "1) 대상사고 : 해당 1년간 발생한 가해 또는 피해차종이 자전거인 교통사고    \n",
    "2) 다발지역 선정조건 : 반경 300m 내 대상사고 4건이상 발생지역    \n",
    "3) 종속 변수 : 피해자신체상해정도     \n",
    "```"
   ]
  },
  {
   "cell_type": "code",
   "execution_count": 5,
   "id": "798f65dd",
   "metadata": {
    "scrolled": true
   },
   "outputs": [
    {
     "data": {
      "text/html": [
       "<div>\n",
       "<style scoped>\n",
       "    .dataframe tbody tr th:only-of-type {\n",
       "        vertical-align: middle;\n",
       "    }\n",
       "\n",
       "    .dataframe tbody tr th {\n",
       "        vertical-align: top;\n",
       "    }\n",
       "\n",
       "    .dataframe thead th {\n",
       "        text-align: right;\n",
       "    }\n",
       "</style>\n",
       "<table border=\"1\" class=\"dataframe\">\n",
       "  <thead>\n",
       "    <tr style=\"text-align: right;\">\n",
       "      <th></th>\n",
       "      <th>사고년도</th>\n",
       "      <th>가해자성별</th>\n",
       "      <th>가해자연령</th>\n",
       "      <th>가해차종</th>\n",
       "      <th>가해자신체상해정도</th>\n",
       "      <th>피해자성별</th>\n",
       "      <th>피해자연령</th>\n",
       "      <th>피해차종</th>\n",
       "      <th>피해자신체상해정도</th>\n",
       "      <th>사고유형</th>\n",
       "      <th>가해자법규위반</th>\n",
       "      <th>기상상태</th>\n",
       "      <th>시각</th>\n",
       "      <th>사건번호</th>\n",
       "    </tr>\n",
       "  </thead>\n",
       "  <tbody>\n",
       "    <tr>\n",
       "      <th>0</th>\n",
       "      <td>2015</td>\n",
       "      <td>남</td>\n",
       "      <td>46세</td>\n",
       "      <td>승합차</td>\n",
       "      <td>상해없음</td>\n",
       "      <td>여</td>\n",
       "      <td>64세</td>\n",
       "      <td>자전거</td>\n",
       "      <td>경상</td>\n",
       "      <td>차대차 - 기타</td>\n",
       "      <td>안전운전불이행</td>\n",
       "      <td>맑음</td>\n",
       "      <td>2015-07-03_10시</td>\n",
       "      <td>ID_796</td>\n",
       "    </tr>\n",
       "    <tr>\n",
       "      <th>1</th>\n",
       "      <td>2019</td>\n",
       "      <td>남</td>\n",
       "      <td>53세</td>\n",
       "      <td>승용차</td>\n",
       "      <td>상해없음</td>\n",
       "      <td>여</td>\n",
       "      <td>57세</td>\n",
       "      <td>자전거</td>\n",
       "      <td>경상</td>\n",
       "      <td>차대차 - 후진중충돌</td>\n",
       "      <td>안전운전불이행</td>\n",
       "      <td>맑음</td>\n",
       "      <td>2019-10-12_10시</td>\n",
       "      <td>ID_6697</td>\n",
       "    </tr>\n",
       "    <tr>\n",
       "      <th>2</th>\n",
       "      <td>2015</td>\n",
       "      <td>남</td>\n",
       "      <td>39세</td>\n",
       "      <td>승용차</td>\n",
       "      <td>상해없음</td>\n",
       "      <td>남</td>\n",
       "      <td>63세</td>\n",
       "      <td>자전거</td>\n",
       "      <td>중상</td>\n",
       "      <td>차대차 - 기타</td>\n",
       "      <td>기타</td>\n",
       "      <td>맑음</td>\n",
       "      <td>2015-03-23_20시</td>\n",
       "      <td>ID_919</td>\n",
       "    </tr>\n",
       "    <tr>\n",
       "      <th>3</th>\n",
       "      <td>2016</td>\n",
       "      <td>남</td>\n",
       "      <td>12세</td>\n",
       "      <td>자전거</td>\n",
       "      <td>상해없음</td>\n",
       "      <td>남</td>\n",
       "      <td>52세</td>\n",
       "      <td>보행자</td>\n",
       "      <td>경상</td>\n",
       "      <td>차대사람 - 길가장자리구역통행중</td>\n",
       "      <td>안전운전불이행</td>\n",
       "      <td>맑음</td>\n",
       "      <td>2016-04-10_15시</td>\n",
       "      <td>ID_2512</td>\n",
       "    </tr>\n",
       "    <tr>\n",
       "      <th>4</th>\n",
       "      <td>2015</td>\n",
       "      <td>남</td>\n",
       "      <td>54세</td>\n",
       "      <td>승용차</td>\n",
       "      <td>상해없음</td>\n",
       "      <td>남</td>\n",
       "      <td>63세</td>\n",
       "      <td>자전거</td>\n",
       "      <td>중상</td>\n",
       "      <td>차대차 - 기타</td>\n",
       "      <td>안전운전불이행</td>\n",
       "      <td>맑음</td>\n",
       "      <td>2015-08-04_6시</td>\n",
       "      <td>ID_75</td>\n",
       "    </tr>\n",
       "  </tbody>\n",
       "</table>\n",
       "</div>"
      ],
      "text/plain": [
       "   사고년도 가해자성별 가해자연령 가해차종 가해자신체상해정도 피해자성별 피해자연령 피해차종 피해자신체상해정도  \\\n",
       "0  2015     남   46세  승합차      상해없음     여   64세  자전거        경상   \n",
       "1  2019     남   53세  승용차      상해없음     여   57세  자전거        경상   \n",
       "2  2015     남   39세  승용차      상해없음     남   63세  자전거        중상   \n",
       "3  2016     남   12세  자전거      상해없음     남   52세  보행자        경상   \n",
       "4  2015     남   54세  승용차      상해없음     남   63세  자전거        중상   \n",
       "\n",
       "                사고유형  가해자법규위반 기상상태              시각     사건번호  \n",
       "0           차대차 - 기타  안전운전불이행   맑음  2015-07-03_10시   ID_796  \n",
       "1        차대차 - 후진중충돌  안전운전불이행   맑음  2019-10-12_10시  ID_6697  \n",
       "2           차대차 - 기타       기타   맑음  2015-03-23_20시   ID_919  \n",
       "3  차대사람 - 길가장자리구역통행중  안전운전불이행   맑음  2016-04-10_15시  ID_2512  \n",
       "4           차대차 - 기타  안전운전불이행   맑음   2015-08-04_6시    ID_75  "
      ]
     },
     "execution_count": 5,
     "metadata": {},
     "output_type": "execute_result"
    }
   ],
   "source": [
    "df = pd.read_csv('https://raw.githubusercontent.com/Datamanim/datarepo/main/adp/30/p2_v2.csv')\n",
    "df.head()"
   ]
  },
  {
   "cell_type": "markdown",
   "id": "380a4e9c",
   "metadata": {},
   "source": [
    "```{admonition} 4-1\n",
    "**발생시각을 통해 평일인지 주말인지를 구분하는 '주말여부' 범주형 변수 추가하고 데이터 분포를 확인하라. (월 ~ 금은 평일, 토요일과 일요일을 주말)**      \n",
    "```"
   ]
  },
  {
   "cell_type": "code",
   "execution_count": 17,
   "id": "5bcbe31a",
   "metadata": {},
   "outputs": [],
   "source": [
    "#"
   ]
  },
  {
   "cell_type": "markdown",
   "id": "a9579167",
   "metadata": {},
   "source": [
    "```{admonition} 4-2\n",
    "**'피해자신체상해정도'에 따라 각 독립변수들이 유의한지 통계적 검정하라**      \n",
    "```"
   ]
  },
  {
   "cell_type": "code",
   "execution_count": 18,
   "id": "5b73bb7b",
   "metadata": {},
   "outputs": [],
   "source": [
    "#"
   ]
  },
  {
   "cell_type": "markdown",
   "id": "ae58ce02",
   "metadata": {},
   "source": [
    "```{admonition} 4-3\n",
    "**4-2 에서 유의한 변수들만을 가지고 '피해자신체상해정도'를 기준으로 SMOTE 오버샘플링을 수행하고 샘플링 데이터와 기존데이터를 합친 전체 데이터에 대해 범주형변수는 변수별 빈도를 나타내고 연속형이면 평균을 나타내시오**      \n",
    "```"
   ]
  },
  {
   "cell_type": "code",
   "execution_count": 19,
   "id": "9f534da9",
   "metadata": {},
   "outputs": [],
   "source": [
    "#"
   ]
  },
  {
   "cell_type": "markdown",
   "id": "b0b09a2d",
   "metadata": {},
   "source": [
    "```{admonition} 4-4\n",
    "**4-3 데이터를 가지고 '피해자신체상해정도' 을 종속변수로 하여 로지스틱회귀분석, XGB 분류 분류 모델을 만들고 성능 비교를 하고 영향력 있는 변수를 확인하라**      \n",
    "```"
   ]
  },
  {
   "cell_type": "code",
   "execution_count": 20,
   "id": "f1f736af",
   "metadata": {},
   "outputs": [],
   "source": [
    "#"
   ]
  },
  {
   "cell_type": "markdown",
   "id": "0e5e9aa8",
   "metadata": {},
   "source": [
    "```{admonition} 5\n",
    "3개의 공장에서 생산한 제품을 3지역으로 가능한 조건에 맞게 최대로 배송한다.        \n",
    "각 공장과 각 지역 사이의 1개 제품 배송 비용이 아래와 같을 때, 최소 배송 비용은 얼마인가?    \n",
    "```"
   ]
  },
  {
   "cell_type": "markdown",
   "id": "16b5bf31",
   "metadata": {},
   "source": [
    "![img](https://raw.githubusercontent.com/Datamanim/datarepo/main/adp/30/p5.png)     "
   ]
  },
  {
   "cell_type": "code",
   "execution_count": 22,
   "id": "6062568a",
   "metadata": {},
   "outputs": [],
   "source": [
    "#"
   ]
  },
  {
   "cell_type": "markdown",
   "id": "f7e2bfc3",
   "metadata": {},
   "source": [
    "```{admonition} 6\n",
    "- 데이터 링크 : https://raw.githubusercontent.com/Datamanim/datarepo/main/adp/30/p6.csv    \n",
    "- 데이터 설명 : 3개 연령층 (청년 장년 노년)의 A 헤드셋의 선호도 (1,2,3/ 범주형) 설문조사\n",
    "```"
   ]
  },
  {
   "cell_type": "markdown",
   "id": "ded6c6c6",
   "metadata": {},
   "source": [
    "```{admonition} 6-1\n",
    "**연령대별로 헤드셋 선호도에 차이가 있는지를 검정하기 위한 귀무가설과 연구가설을 설정해라**      \n",
    "```"
   ]
  },
  {
   "cell_type": "code",
   "execution_count": 23,
   "id": "9541d9da",
   "metadata": {},
   "outputs": [],
   "source": [
    "#"
   ]
  },
  {
   "cell_type": "markdown",
   "id": "f6b96944",
   "metadata": {},
   "source": [
    "```{admonition} 6-2\n",
    "**유의수준 하에서 통계 검정해라**      \n",
    "```"
   ]
  },
  {
   "cell_type": "code",
   "execution_count": 24,
   "id": "e9c6e210",
   "metadata": {},
   "outputs": [],
   "source": [
    "#"
   ]
  },
  {
   "cell_type": "markdown",
   "id": "9c139428",
   "metadata": {},
   "source": [
    "```{admonition} 7-1\n",
    "**아이를 6명 가진 가정이 5 가족이고, 아들/딸을 출생할 확률은 0.5이다. 딸이 4명 이상인 가구가 3 가족 이상일 확률을 구하라**      \n",
    "```"
   ]
  },
  {
   "cell_type": "code",
   "execution_count": 25,
   "id": "d615d20a",
   "metadata": {},
   "outputs": [],
   "source": [
    "#"
   ]
  },
  {
   "cell_type": "markdown",
   "id": "2625a3bb",
   "metadata": {},
   "source": [
    "```{admonition} 7-2\n",
    "**5가족 중 몇 가족이 4명 이상 딸을 가질 것으로 기대할 수 있는가?**      \n",
    "```"
   ]
  },
  {
   "cell_type": "code",
   "execution_count": 26,
   "id": "477a567a",
   "metadata": {},
   "outputs": [],
   "source": [
    "#"
   ]
  },
  {
   "cell_type": "markdown",
   "id": "3d6834a0",
   "metadata": {},
   "source": [
    "created by datamanim [web-link](https://www.datamanim.com)"
   ]
  }
 ],
 "metadata": {
  "kernelspec": {
   "display_name": "Python 3 (ipykernel)",
   "language": "python",
   "name": "python3"
  },
  "language_info": {
   "codemirror_mode": {
    "name": "ipython",
    "version": 3
   },
   "file_extension": ".py",
   "mimetype": "text/x-python",
   "name": "python",
   "nbconvert_exporter": "python",
   "pygments_lexer": "ipython3",
   "version": "3.8.18"
  }
 },
 "nbformat": 4,
 "nbformat_minor": 5
}
