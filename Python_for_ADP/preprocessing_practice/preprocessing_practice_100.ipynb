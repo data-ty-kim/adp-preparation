{
  "nbformat": 4,
  "nbformat_minor": 0,
  "metadata": {
    "colab": {
      "provenance": [],
      "authorship_tag": "ABX9TyPMgIiHAscsJoBqtJ/XrOqK"
    },
    "kernelspec": {
      "name": "python3",
      "display_name": "Python 3"
    },
    "language_info": {
      "name": "python"
    }
  },
  "cells": [
    {
      "cell_type": "code",
      "execution_count": 3,
      "metadata": {
        "id": "Cb_nkoPRp4BL"
      },
      "outputs": [],
      "source": [
        "import pandas as pd"
      ]
    },
    {
      "cell_type": "markdown",
      "source": [
        "**1. 데이터를 불러오라.**"
      ],
      "metadata": {
        "id": "J8iL73Mbsi92"
      }
    },
    {
      "cell_type": "code",
      "source": [
        "DataUrl = 'https://raw.githubusercontent.com/Datamanim/pandas/main/lol.csv'\n",
        "df = pd.read_csv(DataUrl,sep='\\t')"
      ],
      "metadata": {
        "id": "ZamQFcBLseVJ"
      },
      "execution_count": null,
      "outputs": []
    },
    {
      "cell_type": "code",
      "source": [
        "print(type(df))"
      ],
      "metadata": {
        "colab": {
          "base_uri": "https://localhost:8080/"
        },
        "id": "CPQiaTzbs0OT",
        "outputId": "b7049227-dae0-4979-a7c4-f4c1b85fa3c9"
      },
      "execution_count": null,
      "outputs": [
        {
          "output_type": "stream",
          "name": "stdout",
          "text": [
            "<class 'pandas.core.frame.DataFrame'>\n"
          ]
        }
      ]
    },
    {
      "cell_type": "markdown",
      "source": [
        "**2. 데이터의 상위 5개 행을 출력하라.**"
      ],
      "metadata": {
        "id": "XKuxTpHPtDeS"
      }
    },
    {
      "cell_type": "code",
      "source": [
        "df.head(5)"
      ],
      "metadata": {
        "colab": {
          "base_uri": "https://localhost:8080/",
          "height": 300
        },
        "id": "ZSW6uSa8tADY",
        "outputId": "fabadc1c-273b-40ee-d49a-77051c31b4e1"
      },
      "execution_count": null,
      "outputs": [
        {
          "output_type": "execute_result",
          "data": {
            "text/plain": [
              "       gameId   creationTime  gameDuration  seasonId  winner  firstBlood  \\\n",
              "0  3326086514  1504279457970          1949         9       1           2   \n",
              "1  3229566029  1497848803862          1851         9       1           1   \n",
              "2  3327363504  1504360103310          1493         9       1           2   \n",
              "3  3326856598  1504348503996          1758         9       1           1   \n",
              "4  3330080762  1504554410899          2094         9       1           2   \n",
              "\n",
              "   firstTower  firstInhibitor  firstBaron  firstDragon  ...  t2_towerKills  \\\n",
              "0           1               1           1            1  ...              5   \n",
              "1           1               1           0            1  ...              2   \n",
              "2           1               1           1            2  ...              2   \n",
              "3           1               1           1            1  ...              0   \n",
              "4           1               1           1            1  ...              3   \n",
              "\n",
              "   t2_inhibitorKills  t2_baronKills  t2_dragonKills  t2_riftHeraldKills  \\\n",
              "0                  0              0               1                   1   \n",
              "1                  0              0               0                   0   \n",
              "2                  0              0               1                   0   \n",
              "3                  0              0               0                   0   \n",
              "4                  0              0               1                   0   \n",
              "\n",
              "   t2_ban1  t2_ban2  t2_ban3  t2_ban4  t2_ban5  \n",
              "0      114       67       43       16       51  \n",
              "1       11       67      238       51      420  \n",
              "2      157      238      121       57       28  \n",
              "3      164       18      141       40       51  \n",
              "4       86       11      201      122       18  \n",
              "\n",
              "[5 rows x 61 columns]"
            ],
            "text/html": [
              "\n",
              "  <div id=\"df-81b33799-6f27-4e25-abd7-3794ec403dc3\">\n",
              "    <div class=\"colab-df-container\">\n",
              "      <div>\n",
              "<style scoped>\n",
              "    .dataframe tbody tr th:only-of-type {\n",
              "        vertical-align: middle;\n",
              "    }\n",
              "\n",
              "    .dataframe tbody tr th {\n",
              "        vertical-align: top;\n",
              "    }\n",
              "\n",
              "    .dataframe thead th {\n",
              "        text-align: right;\n",
              "    }\n",
              "</style>\n",
              "<table border=\"1\" class=\"dataframe\">\n",
              "  <thead>\n",
              "    <tr style=\"text-align: right;\">\n",
              "      <th></th>\n",
              "      <th>gameId</th>\n",
              "      <th>creationTime</th>\n",
              "      <th>gameDuration</th>\n",
              "      <th>seasonId</th>\n",
              "      <th>winner</th>\n",
              "      <th>firstBlood</th>\n",
              "      <th>firstTower</th>\n",
              "      <th>firstInhibitor</th>\n",
              "      <th>firstBaron</th>\n",
              "      <th>firstDragon</th>\n",
              "      <th>...</th>\n",
              "      <th>t2_towerKills</th>\n",
              "      <th>t2_inhibitorKills</th>\n",
              "      <th>t2_baronKills</th>\n",
              "      <th>t2_dragonKills</th>\n",
              "      <th>t2_riftHeraldKills</th>\n",
              "      <th>t2_ban1</th>\n",
              "      <th>t2_ban2</th>\n",
              "      <th>t2_ban3</th>\n",
              "      <th>t2_ban4</th>\n",
              "      <th>t2_ban5</th>\n",
              "    </tr>\n",
              "  </thead>\n",
              "  <tbody>\n",
              "    <tr>\n",
              "      <th>0</th>\n",
              "      <td>3326086514</td>\n",
              "      <td>1504279457970</td>\n",
              "      <td>1949</td>\n",
              "      <td>9</td>\n",
              "      <td>1</td>\n",
              "      <td>2</td>\n",
              "      <td>1</td>\n",
              "      <td>1</td>\n",
              "      <td>1</td>\n",
              "      <td>1</td>\n",
              "      <td>...</td>\n",
              "      <td>5</td>\n",
              "      <td>0</td>\n",
              "      <td>0</td>\n",
              "      <td>1</td>\n",
              "      <td>1</td>\n",
              "      <td>114</td>\n",
              "      <td>67</td>\n",
              "      <td>43</td>\n",
              "      <td>16</td>\n",
              "      <td>51</td>\n",
              "    </tr>\n",
              "    <tr>\n",
              "      <th>1</th>\n",
              "      <td>3229566029</td>\n",
              "      <td>1497848803862</td>\n",
              "      <td>1851</td>\n",
              "      <td>9</td>\n",
              "      <td>1</td>\n",
              "      <td>1</td>\n",
              "      <td>1</td>\n",
              "      <td>1</td>\n",
              "      <td>0</td>\n",
              "      <td>1</td>\n",
              "      <td>...</td>\n",
              "      <td>2</td>\n",
              "      <td>0</td>\n",
              "      <td>0</td>\n",
              "      <td>0</td>\n",
              "      <td>0</td>\n",
              "      <td>11</td>\n",
              "      <td>67</td>\n",
              "      <td>238</td>\n",
              "      <td>51</td>\n",
              "      <td>420</td>\n",
              "    </tr>\n",
              "    <tr>\n",
              "      <th>2</th>\n",
              "      <td>3327363504</td>\n",
              "      <td>1504360103310</td>\n",
              "      <td>1493</td>\n",
              "      <td>9</td>\n",
              "      <td>1</td>\n",
              "      <td>2</td>\n",
              "      <td>1</td>\n",
              "      <td>1</td>\n",
              "      <td>1</td>\n",
              "      <td>2</td>\n",
              "      <td>...</td>\n",
              "      <td>2</td>\n",
              "      <td>0</td>\n",
              "      <td>0</td>\n",
              "      <td>1</td>\n",
              "      <td>0</td>\n",
              "      <td>157</td>\n",
              "      <td>238</td>\n",
              "      <td>121</td>\n",
              "      <td>57</td>\n",
              "      <td>28</td>\n",
              "    </tr>\n",
              "    <tr>\n",
              "      <th>3</th>\n",
              "      <td>3326856598</td>\n",
              "      <td>1504348503996</td>\n",
              "      <td>1758</td>\n",
              "      <td>9</td>\n",
              "      <td>1</td>\n",
              "      <td>1</td>\n",
              "      <td>1</td>\n",
              "      <td>1</td>\n",
              "      <td>1</td>\n",
              "      <td>1</td>\n",
              "      <td>...</td>\n",
              "      <td>0</td>\n",
              "      <td>0</td>\n",
              "      <td>0</td>\n",
              "      <td>0</td>\n",
              "      <td>0</td>\n",
              "      <td>164</td>\n",
              "      <td>18</td>\n",
              "      <td>141</td>\n",
              "      <td>40</td>\n",
              "      <td>51</td>\n",
              "    </tr>\n",
              "    <tr>\n",
              "      <th>4</th>\n",
              "      <td>3330080762</td>\n",
              "      <td>1504554410899</td>\n",
              "      <td>2094</td>\n",
              "      <td>9</td>\n",
              "      <td>1</td>\n",
              "      <td>2</td>\n",
              "      <td>1</td>\n",
              "      <td>1</td>\n",
              "      <td>1</td>\n",
              "      <td>1</td>\n",
              "      <td>...</td>\n",
              "      <td>3</td>\n",
              "      <td>0</td>\n",
              "      <td>0</td>\n",
              "      <td>1</td>\n",
              "      <td>0</td>\n",
              "      <td>86</td>\n",
              "      <td>11</td>\n",
              "      <td>201</td>\n",
              "      <td>122</td>\n",
              "      <td>18</td>\n",
              "    </tr>\n",
              "  </tbody>\n",
              "</table>\n",
              "<p>5 rows × 61 columns</p>\n",
              "</div>\n",
              "      <button class=\"colab-df-convert\" onclick=\"convertToInteractive('df-81b33799-6f27-4e25-abd7-3794ec403dc3')\"\n",
              "              title=\"Convert this dataframe to an interactive table.\"\n",
              "              style=\"display:none;\">\n",
              "        \n",
              "  <svg xmlns=\"http://www.w3.org/2000/svg\" height=\"24px\"viewBox=\"0 0 24 24\"\n",
              "       width=\"24px\">\n",
              "    <path d=\"M0 0h24v24H0V0z\" fill=\"none\"/>\n",
              "    <path d=\"M18.56 5.44l.94 2.06.94-2.06 2.06-.94-2.06-.94-.94-2.06-.94 2.06-2.06.94zm-11 1L8.5 8.5l.94-2.06 2.06-.94-2.06-.94L8.5 2.5l-.94 2.06-2.06.94zm10 10l.94 2.06.94-2.06 2.06-.94-2.06-.94-.94-2.06-.94 2.06-2.06.94z\"/><path d=\"M17.41 7.96l-1.37-1.37c-.4-.4-.92-.59-1.43-.59-.52 0-1.04.2-1.43.59L10.3 9.45l-7.72 7.72c-.78.78-.78 2.05 0 2.83L4 21.41c.39.39.9.59 1.41.59.51 0 1.02-.2 1.41-.59l7.78-7.78 2.81-2.81c.8-.78.8-2.07 0-2.86zM5.41 20L4 18.59l7.72-7.72 1.47 1.35L5.41 20z\"/>\n",
              "  </svg>\n",
              "      </button>\n",
              "      \n",
              "  <style>\n",
              "    .colab-df-container {\n",
              "      display:flex;\n",
              "      flex-wrap:wrap;\n",
              "      gap: 12px;\n",
              "    }\n",
              "\n",
              "    .colab-df-convert {\n",
              "      background-color: #E8F0FE;\n",
              "      border: none;\n",
              "      border-radius: 50%;\n",
              "      cursor: pointer;\n",
              "      display: none;\n",
              "      fill: #1967D2;\n",
              "      height: 32px;\n",
              "      padding: 0 0 0 0;\n",
              "      width: 32px;\n",
              "    }\n",
              "\n",
              "    .colab-df-convert:hover {\n",
              "      background-color: #E2EBFA;\n",
              "      box-shadow: 0px 1px 2px rgba(60, 64, 67, 0.3), 0px 1px 3px 1px rgba(60, 64, 67, 0.15);\n",
              "      fill: #174EA6;\n",
              "    }\n",
              "\n",
              "    [theme=dark] .colab-df-convert {\n",
              "      background-color: #3B4455;\n",
              "      fill: #D2E3FC;\n",
              "    }\n",
              "\n",
              "    [theme=dark] .colab-df-convert:hover {\n",
              "      background-color: #434B5C;\n",
              "      box-shadow: 0px 1px 3px 1px rgba(0, 0, 0, 0.15);\n",
              "      filter: drop-shadow(0px 1px 2px rgba(0, 0, 0, 0.3));\n",
              "      fill: #FFFFFF;\n",
              "    }\n",
              "  </style>\n",
              "\n",
              "      <script>\n",
              "        const buttonEl =\n",
              "          document.querySelector('#df-81b33799-6f27-4e25-abd7-3794ec403dc3 button.colab-df-convert');\n",
              "        buttonEl.style.display =\n",
              "          google.colab.kernel.accessAllowed ? 'block' : 'none';\n",
              "\n",
              "        async function convertToInteractive(key) {\n",
              "          const element = document.querySelector('#df-81b33799-6f27-4e25-abd7-3794ec403dc3');\n",
              "          const dataTable =\n",
              "            await google.colab.kernel.invokeFunction('convertToInteractive',\n",
              "                                                     [key], {});\n",
              "          if (!dataTable) return;\n",
              "\n",
              "          const docLinkHtml = 'Like what you see? Visit the ' +\n",
              "            '<a target=\"_blank\" href=https://colab.research.google.com/notebooks/data_table.ipynb>data table notebook</a>'\n",
              "            + ' to learn more about interactive tables.';\n",
              "          element.innerHTML = '';\n",
              "          dataTable['output_type'] = 'display_data';\n",
              "          await google.colab.output.renderOutput(dataTable, element);\n",
              "          const docLink = document.createElement('div');\n",
              "          docLink.innerHTML = docLinkHtml;\n",
              "          element.appendChild(docLink);\n",
              "        }\n",
              "      </script>\n",
              "    </div>\n",
              "  </div>\n",
              "  "
            ]
          },
          "metadata": {},
          "execution_count": 6
        }
      ]
    },
    {
      "cell_type": "markdown",
      "source": [
        "**3. 데이터의 행과 열의 개수를 파악하라.**"
      ],
      "metadata": {
        "id": "bV59l2lHtKTY"
      }
    },
    {
      "cell_type": "code",
      "source": [
        "print('행의 개수:', df.shape[0])\n",
        "print('열의 개수:', df.shape[1])"
      ],
      "metadata": {
        "colab": {
          "base_uri": "https://localhost:8080/"
        },
        "id": "92xvKjFKu7Zm",
        "outputId": "4ab04340-23ff-446e-d1bb-c1da45041844"
      },
      "execution_count": null,
      "outputs": [
        {
          "output_type": "stream",
          "name": "stdout",
          "text": [
            "행의 개수: 51490\n",
            "열의 개수: 61\n"
          ]
        }
      ]
    },
    {
      "cell_type": "markdown",
      "source": [
        "**4. 전체 칼럼을 출력하라.**"
      ],
      "metadata": {
        "id": "kXRz-OkBvFhx"
      }
    },
    {
      "cell_type": "code",
      "source": [
        "df.columns"
      ],
      "metadata": {
        "colab": {
          "base_uri": "https://localhost:8080/"
        },
        "id": "jHoa1EzZvPuv",
        "outputId": "71808517-dd6d-4cb6-ca16-2f1110271e89"
      },
      "execution_count": null,
      "outputs": [
        {
          "output_type": "execute_result",
          "data": {
            "text/plain": [
              "Index(['gameId', 'creationTime', 'gameDuration', 'seasonId', 'winner',\n",
              "       'firstBlood', 'firstTower', 'firstInhibitor', 'firstBaron',\n",
              "       'firstDragon', 'firstRiftHerald', 't1_champ1id', 't1_champ1_sum1',\n",
              "       't1_champ1_sum2', 't1_champ2id', 't1_champ2_sum1', 't1_champ2_sum2',\n",
              "       't1_champ3id', 't1_champ3_sum1', 't1_champ3_sum2', 't1_champ4id',\n",
              "       't1_champ4_sum1', 't1_champ4_sum2', 't1_champ5id', 't1_champ5_sum1',\n",
              "       't1_champ5_sum2', 't1_towerKills', 't1_inhibitorKills', 't1_baronKills',\n",
              "       't1_dragonKills', 't1_riftHeraldKills', 't1_ban1', 't1_ban2', 't1_ban3',\n",
              "       't1_ban4', 't1_ban5', 't2_champ1id', 't2_champ1_sum1', 't2_champ1_sum2',\n",
              "       't2_champ2id', 't2_champ2_sum1', 't2_champ2_sum2', 't2_champ3id',\n",
              "       't2_champ3_sum1', 't2_champ3_sum2', 't2_champ4id', 't2_champ4_sum1',\n",
              "       't2_champ4_sum2', 't2_champ5id', 't2_champ5_sum1', 't2_champ5_sum2',\n",
              "       't2_towerKills', 't2_inhibitorKills', 't2_baronKills', 't2_dragonKills',\n",
              "       't2_riftHeraldKills', 't2_ban1', 't2_ban2', 't2_ban3', 't2_ban4',\n",
              "       't2_ban5'],\n",
              "      dtype='object')"
            ]
          },
          "metadata": {},
          "execution_count": 9
        }
      ]
    },
    {
      "cell_type": "markdown",
      "source": [
        "**5. 6번째 칼럼명을 출력하라.**"
      ],
      "metadata": {
        "id": "mRpIgOq8vSrP"
      }
    },
    {
      "cell_type": "code",
      "source": [
        "df.columns[5]"
      ],
      "metadata": {
        "colab": {
          "base_uri": "https://localhost:8080/",
          "height": 35
        },
        "id": "-5lZOM8gvYsn",
        "outputId": "cd370280-102a-4650-bbee-a10acd809171"
      },
      "execution_count": null,
      "outputs": [
        {
          "output_type": "execute_result",
          "data": {
            "text/plain": [
              "'firstBlood'"
            ],
            "application/vnd.google.colaboratory.intrinsic+json": {
              "type": "string"
            }
          },
          "metadata": {},
          "execution_count": 11
        }
      ]
    },
    {
      "cell_type": "markdown",
      "source": [
        "**6. 6번째 칼럼의 데이터 타입을 확인하라.**"
      ],
      "metadata": {
        "id": "3O7dm25Zvmpv"
      }
    },
    {
      "cell_type": "code",
      "source": [
        "df.iloc[:,5].dtype"
      ],
      "metadata": {
        "colab": {
          "base_uri": "https://localhost:8080/"
        },
        "id": "ckyW4Ic9vuWI",
        "outputId": "ba62a5e0-728a-412d-af73-1872cd3ee945"
      },
      "execution_count": null,
      "outputs": [
        {
          "output_type": "execute_result",
          "data": {
            "text/plain": [
              "dtype('int64')"
            ]
          },
          "metadata": {},
          "execution_count": 13
        }
      ]
    },
    {
      "cell_type": "markdown",
      "source": [
        "**7. 데이터셋의 인덱스 구성은 어떠한가?**   \n",
        "\n",
        "&nbsp;&nbsp;&nbsp; The index property returns the index information of the DataFrame.\n",
        "\n",
        "&nbsp;&nbsp;&nbsp; The index information contains the labels of the rows. If the rows has NOT named indexes, the index property returns a RangeIndex object with the start, stop, and step values."
      ],
      "metadata": {
        "id": "EBlUY_9gvycY"
      }
    },
    {
      "cell_type": "code",
      "source": [
        "df.index"
      ],
      "metadata": {
        "colab": {
          "base_uri": "https://localhost:8080/"
        },
        "id": "2VoOECBfwEyf",
        "outputId": "c195ad8c-ce2c-4e38-9ad3-9e6f884ff7ee"
      },
      "execution_count": null,
      "outputs": [
        {
          "output_type": "execute_result",
          "data": {
            "text/plain": [
              "RangeIndex(start=0, stop=51490, step=1)"
            ]
          },
          "metadata": {},
          "execution_count": 14
        }
      ]
    },
    {
      "cell_type": "markdown",
      "source": [
        "**8. 6번째 칼럼의 3번째 값은 무엇인가?**"
      ],
      "metadata": {
        "id": "ZM3DjEuTwF74"
      }
    },
    {
      "cell_type": "code",
      "source": [
        "df.iloc[2,5]"
      ],
      "metadata": {
        "colab": {
          "base_uri": "https://localhost:8080/"
        },
        "id": "DTVzvxlDwwMv",
        "outputId": "878fa984-a011-4e15-cfb8-b12e55af729c"
      },
      "execution_count": null,
      "outputs": [
        {
          "output_type": "execute_result",
          "data": {
            "text/plain": [
              "2"
            ]
          },
          "metadata": {},
          "execution_count": 15
        }
      ]
    },
    {
      "cell_type": "markdown",
      "source": [
        "**9. 데이터를 불러오라. 칼럼이 한글이므로 적절히 처리하라.**"
      ],
      "metadata": {
        "id": "QBWJlDoGwz_I"
      }
    },
    {
      "cell_type": "code",
      "source": [
        "DataUrl = 'https://raw.githubusercontent.com/Datamanim/pandas/main/Jeju.csv'\n",
        "df = pd.read_csv(DataUrl, encoding='euc-kr')"
      ],
      "metadata": {
        "id": "-3dNlOxmw9HA"
      },
      "execution_count": 8,
      "outputs": []
    },
    {
      "cell_type": "code",
      "source": [
        "df.head()"
      ],
      "metadata": {
        "colab": {
          "base_uri": "https://localhost:8080/",
          "height": 206
        },
        "id": "oq9KJbY0GoSh",
        "outputId": "0aff0e63-5303-4b08-8cc6-45c3ad1331db"
      },
      "execution_count": 9,
      "outputs": [
        {
          "output_type": "execute_result",
          "data": {
            "text/plain": [
              "      id          일자   시도명  읍면동명         거주인구       근무인구        방문인구  \\\n",
              "0  22448  2018-01-01   제주시   도두동    32249.987   3418.266  102709.092   \n",
              "1  22449  2018-01-01   제주시   외도동   213500.997  10341.172  112692.789   \n",
              "2  22450  2018-01-01   제주시  이도2동  1212382.218  96920.834  541194.481   \n",
              "3  22451  2018-01-01   제주시  일도1동    33991.653   6034.253   72155.919   \n",
              "4  22452  2018-01-01  서귀포시   대천동   155036.925   9403.969  150882.409   \n",
              "\n",
              "        총 유동인구   평균 속도  평균 소요 시간  평균 기온  일강수량  평균 풍속  \n",
              "0   138377.345  39.556    29.167    5.0   0.0    2.5  \n",
              "1   336534.958  32.900    30.900    5.0   0.0    2.5  \n",
              "2  1850497.533  29.538    35.692    2.9   0.0    2.4  \n",
              "3   112181.825  30.000    23.500    2.9   0.0    2.4  \n",
              "4   315323.303  41.583    14.375    5.1   0.0    2.3  "
            ],
            "text/html": [
              "\n",
              "  <div id=\"df-464a2615-c9ed-4bd5-a344-2b9aab363e45\">\n",
              "    <div class=\"colab-df-container\">\n",
              "      <div>\n",
              "<style scoped>\n",
              "    .dataframe tbody tr th:only-of-type {\n",
              "        vertical-align: middle;\n",
              "    }\n",
              "\n",
              "    .dataframe tbody tr th {\n",
              "        vertical-align: top;\n",
              "    }\n",
              "\n",
              "    .dataframe thead th {\n",
              "        text-align: right;\n",
              "    }\n",
              "</style>\n",
              "<table border=\"1\" class=\"dataframe\">\n",
              "  <thead>\n",
              "    <tr style=\"text-align: right;\">\n",
              "      <th></th>\n",
              "      <th>id</th>\n",
              "      <th>일자</th>\n",
              "      <th>시도명</th>\n",
              "      <th>읍면동명</th>\n",
              "      <th>거주인구</th>\n",
              "      <th>근무인구</th>\n",
              "      <th>방문인구</th>\n",
              "      <th>총 유동인구</th>\n",
              "      <th>평균 속도</th>\n",
              "      <th>평균 소요 시간</th>\n",
              "      <th>평균 기온</th>\n",
              "      <th>일강수량</th>\n",
              "      <th>평균 풍속</th>\n",
              "    </tr>\n",
              "  </thead>\n",
              "  <tbody>\n",
              "    <tr>\n",
              "      <th>0</th>\n",
              "      <td>22448</td>\n",
              "      <td>2018-01-01</td>\n",
              "      <td>제주시</td>\n",
              "      <td>도두동</td>\n",
              "      <td>32249.987</td>\n",
              "      <td>3418.266</td>\n",
              "      <td>102709.092</td>\n",
              "      <td>138377.345</td>\n",
              "      <td>39.556</td>\n",
              "      <td>29.167</td>\n",
              "      <td>5.0</td>\n",
              "      <td>0.0</td>\n",
              "      <td>2.5</td>\n",
              "    </tr>\n",
              "    <tr>\n",
              "      <th>1</th>\n",
              "      <td>22449</td>\n",
              "      <td>2018-01-01</td>\n",
              "      <td>제주시</td>\n",
              "      <td>외도동</td>\n",
              "      <td>213500.997</td>\n",
              "      <td>10341.172</td>\n",
              "      <td>112692.789</td>\n",
              "      <td>336534.958</td>\n",
              "      <td>32.900</td>\n",
              "      <td>30.900</td>\n",
              "      <td>5.0</td>\n",
              "      <td>0.0</td>\n",
              "      <td>2.5</td>\n",
              "    </tr>\n",
              "    <tr>\n",
              "      <th>2</th>\n",
              "      <td>22450</td>\n",
              "      <td>2018-01-01</td>\n",
              "      <td>제주시</td>\n",
              "      <td>이도2동</td>\n",
              "      <td>1212382.218</td>\n",
              "      <td>96920.834</td>\n",
              "      <td>541194.481</td>\n",
              "      <td>1850497.533</td>\n",
              "      <td>29.538</td>\n",
              "      <td>35.692</td>\n",
              "      <td>2.9</td>\n",
              "      <td>0.0</td>\n",
              "      <td>2.4</td>\n",
              "    </tr>\n",
              "    <tr>\n",
              "      <th>3</th>\n",
              "      <td>22451</td>\n",
              "      <td>2018-01-01</td>\n",
              "      <td>제주시</td>\n",
              "      <td>일도1동</td>\n",
              "      <td>33991.653</td>\n",
              "      <td>6034.253</td>\n",
              "      <td>72155.919</td>\n",
              "      <td>112181.825</td>\n",
              "      <td>30.000</td>\n",
              "      <td>23.500</td>\n",
              "      <td>2.9</td>\n",
              "      <td>0.0</td>\n",
              "      <td>2.4</td>\n",
              "    </tr>\n",
              "    <tr>\n",
              "      <th>4</th>\n",
              "      <td>22452</td>\n",
              "      <td>2018-01-01</td>\n",
              "      <td>서귀포시</td>\n",
              "      <td>대천동</td>\n",
              "      <td>155036.925</td>\n",
              "      <td>9403.969</td>\n",
              "      <td>150882.409</td>\n",
              "      <td>315323.303</td>\n",
              "      <td>41.583</td>\n",
              "      <td>14.375</td>\n",
              "      <td>5.1</td>\n",
              "      <td>0.0</td>\n",
              "      <td>2.3</td>\n",
              "    </tr>\n",
              "  </tbody>\n",
              "</table>\n",
              "</div>\n",
              "      <button class=\"colab-df-convert\" onclick=\"convertToInteractive('df-464a2615-c9ed-4bd5-a344-2b9aab363e45')\"\n",
              "              title=\"Convert this dataframe to an interactive table.\"\n",
              "              style=\"display:none;\">\n",
              "        \n",
              "  <svg xmlns=\"http://www.w3.org/2000/svg\" height=\"24px\"viewBox=\"0 0 24 24\"\n",
              "       width=\"24px\">\n",
              "    <path d=\"M0 0h24v24H0V0z\" fill=\"none\"/>\n",
              "    <path d=\"M18.56 5.44l.94 2.06.94-2.06 2.06-.94-2.06-.94-.94-2.06-.94 2.06-2.06.94zm-11 1L8.5 8.5l.94-2.06 2.06-.94-2.06-.94L8.5 2.5l-.94 2.06-2.06.94zm10 10l.94 2.06.94-2.06 2.06-.94-2.06-.94-.94-2.06-.94 2.06-2.06.94z\"/><path d=\"M17.41 7.96l-1.37-1.37c-.4-.4-.92-.59-1.43-.59-.52 0-1.04.2-1.43.59L10.3 9.45l-7.72 7.72c-.78.78-.78 2.05 0 2.83L4 21.41c.39.39.9.59 1.41.59.51 0 1.02-.2 1.41-.59l7.78-7.78 2.81-2.81c.8-.78.8-2.07 0-2.86zM5.41 20L4 18.59l7.72-7.72 1.47 1.35L5.41 20z\"/>\n",
              "  </svg>\n",
              "      </button>\n",
              "      \n",
              "  <style>\n",
              "    .colab-df-container {\n",
              "      display:flex;\n",
              "      flex-wrap:wrap;\n",
              "      gap: 12px;\n",
              "    }\n",
              "\n",
              "    .colab-df-convert {\n",
              "      background-color: #E8F0FE;\n",
              "      border: none;\n",
              "      border-radius: 50%;\n",
              "      cursor: pointer;\n",
              "      display: none;\n",
              "      fill: #1967D2;\n",
              "      height: 32px;\n",
              "      padding: 0 0 0 0;\n",
              "      width: 32px;\n",
              "    }\n",
              "\n",
              "    .colab-df-convert:hover {\n",
              "      background-color: #E2EBFA;\n",
              "      box-shadow: 0px 1px 2px rgba(60, 64, 67, 0.3), 0px 1px 3px 1px rgba(60, 64, 67, 0.15);\n",
              "      fill: #174EA6;\n",
              "    }\n",
              "\n",
              "    [theme=dark] .colab-df-convert {\n",
              "      background-color: #3B4455;\n",
              "      fill: #D2E3FC;\n",
              "    }\n",
              "\n",
              "    [theme=dark] .colab-df-convert:hover {\n",
              "      background-color: #434B5C;\n",
              "      box-shadow: 0px 1px 3px 1px rgba(0, 0, 0, 0.15);\n",
              "      filter: drop-shadow(0px 1px 2px rgba(0, 0, 0, 0.3));\n",
              "      fill: #FFFFFF;\n",
              "    }\n",
              "  </style>\n",
              "\n",
              "      <script>\n",
              "        const buttonEl =\n",
              "          document.querySelector('#df-464a2615-c9ed-4bd5-a344-2b9aab363e45 button.colab-df-convert');\n",
              "        buttonEl.style.display =\n",
              "          google.colab.kernel.accessAllowed ? 'block' : 'none';\n",
              "\n",
              "        async function convertToInteractive(key) {\n",
              "          const element = document.querySelector('#df-464a2615-c9ed-4bd5-a344-2b9aab363e45');\n",
              "          const dataTable =\n",
              "            await google.colab.kernel.invokeFunction('convertToInteractive',\n",
              "                                                     [key], {});\n",
              "          if (!dataTable) return;\n",
              "\n",
              "          const docLinkHtml = 'Like what you see? Visit the ' +\n",
              "            '<a target=\"_blank\" href=https://colab.research.google.com/notebooks/data_table.ipynb>data table notebook</a>'\n",
              "            + ' to learn more about interactive tables.';\n",
              "          element.innerHTML = '';\n",
              "          dataTable['output_type'] = 'display_data';\n",
              "          await google.colab.output.renderOutput(dataTable, element);\n",
              "          const docLink = document.createElement('div');\n",
              "          docLink.innerHTML = docLinkHtml;\n",
              "          element.appendChild(docLink);\n",
              "        }\n",
              "      </script>\n",
              "    </div>\n",
              "  </div>\n",
              "  "
            ]
          },
          "metadata": {},
          "execution_count": 9
        }
      ]
    },
    {
      "cell_type": "markdown",
      "source": [
        "**10. 데이터 마지막 3개 행을 출력하라.**"
      ],
      "metadata": {
        "id": "fMn-5IEOLrw9"
      }
    },
    {
      "cell_type": "code",
      "source": [
        "df.tail(3)"
      ],
      "metadata": {
        "colab": {
          "base_uri": "https://localhost:8080/",
          "height": 143
        },
        "id": "RwMbLpD8L--o",
        "outputId": "4c91ca1d-5c23-44ec-a341-60731aadd82b"
      },
      "execution_count": 10,
      "outputs": [
        {
          "output_type": "execute_result",
          "data": {
            "text/plain": [
              "         id          일자   시도명 읍면동명         거주인구       근무인구        방문인구  \\\n",
              "9618  32066  2020-04-30   제주시  도두동    28397.481   3144.895   84052.697   \n",
              "9619  32067  2020-04-30  서귀포시  안덕면   348037.846  29106.286  251129.660   \n",
              "9620  32068  2020-04-30   제주시   연동  1010643.372  65673.477  447622.068   \n",
              "\n",
              "           총 유동인구   평균 속도  평균 소요 시간  평균 기온  일강수량  평균 풍속  \n",
              "9618   115595.073  41.053    29.421   20.3   0.0    3.0  \n",
              "9619   628273.792  46.595    49.189   17.6   0.0    3.5  \n",
              "9620  1523938.917  40.863    27.765   14.1   0.0    4.8  "
            ],
            "text/html": [
              "\n",
              "  <div id=\"df-40d47e64-5aa2-4ddc-a456-f5a1e6d84749\">\n",
              "    <div class=\"colab-df-container\">\n",
              "      <div>\n",
              "<style scoped>\n",
              "    .dataframe tbody tr th:only-of-type {\n",
              "        vertical-align: middle;\n",
              "    }\n",
              "\n",
              "    .dataframe tbody tr th {\n",
              "        vertical-align: top;\n",
              "    }\n",
              "\n",
              "    .dataframe thead th {\n",
              "        text-align: right;\n",
              "    }\n",
              "</style>\n",
              "<table border=\"1\" class=\"dataframe\">\n",
              "  <thead>\n",
              "    <tr style=\"text-align: right;\">\n",
              "      <th></th>\n",
              "      <th>id</th>\n",
              "      <th>일자</th>\n",
              "      <th>시도명</th>\n",
              "      <th>읍면동명</th>\n",
              "      <th>거주인구</th>\n",
              "      <th>근무인구</th>\n",
              "      <th>방문인구</th>\n",
              "      <th>총 유동인구</th>\n",
              "      <th>평균 속도</th>\n",
              "      <th>평균 소요 시간</th>\n",
              "      <th>평균 기온</th>\n",
              "      <th>일강수량</th>\n",
              "      <th>평균 풍속</th>\n",
              "    </tr>\n",
              "  </thead>\n",
              "  <tbody>\n",
              "    <tr>\n",
              "      <th>9618</th>\n",
              "      <td>32066</td>\n",
              "      <td>2020-04-30</td>\n",
              "      <td>제주시</td>\n",
              "      <td>도두동</td>\n",
              "      <td>28397.481</td>\n",
              "      <td>3144.895</td>\n",
              "      <td>84052.697</td>\n",
              "      <td>115595.073</td>\n",
              "      <td>41.053</td>\n",
              "      <td>29.421</td>\n",
              "      <td>20.3</td>\n",
              "      <td>0.0</td>\n",
              "      <td>3.0</td>\n",
              "    </tr>\n",
              "    <tr>\n",
              "      <th>9619</th>\n",
              "      <td>32067</td>\n",
              "      <td>2020-04-30</td>\n",
              "      <td>서귀포시</td>\n",
              "      <td>안덕면</td>\n",
              "      <td>348037.846</td>\n",
              "      <td>29106.286</td>\n",
              "      <td>251129.660</td>\n",
              "      <td>628273.792</td>\n",
              "      <td>46.595</td>\n",
              "      <td>49.189</td>\n",
              "      <td>17.6</td>\n",
              "      <td>0.0</td>\n",
              "      <td>3.5</td>\n",
              "    </tr>\n",
              "    <tr>\n",
              "      <th>9620</th>\n",
              "      <td>32068</td>\n",
              "      <td>2020-04-30</td>\n",
              "      <td>제주시</td>\n",
              "      <td>연동</td>\n",
              "      <td>1010643.372</td>\n",
              "      <td>65673.477</td>\n",
              "      <td>447622.068</td>\n",
              "      <td>1523938.917</td>\n",
              "      <td>40.863</td>\n",
              "      <td>27.765</td>\n",
              "      <td>14.1</td>\n",
              "      <td>0.0</td>\n",
              "      <td>4.8</td>\n",
              "    </tr>\n",
              "  </tbody>\n",
              "</table>\n",
              "</div>\n",
              "      <button class=\"colab-df-convert\" onclick=\"convertToInteractive('df-40d47e64-5aa2-4ddc-a456-f5a1e6d84749')\"\n",
              "              title=\"Convert this dataframe to an interactive table.\"\n",
              "              style=\"display:none;\">\n",
              "        \n",
              "  <svg xmlns=\"http://www.w3.org/2000/svg\" height=\"24px\"viewBox=\"0 0 24 24\"\n",
              "       width=\"24px\">\n",
              "    <path d=\"M0 0h24v24H0V0z\" fill=\"none\"/>\n",
              "    <path d=\"M18.56 5.44l.94 2.06.94-2.06 2.06-.94-2.06-.94-.94-2.06-.94 2.06-2.06.94zm-11 1L8.5 8.5l.94-2.06 2.06-.94-2.06-.94L8.5 2.5l-.94 2.06-2.06.94zm10 10l.94 2.06.94-2.06 2.06-.94-2.06-.94-.94-2.06-.94 2.06-2.06.94z\"/><path d=\"M17.41 7.96l-1.37-1.37c-.4-.4-.92-.59-1.43-.59-.52 0-1.04.2-1.43.59L10.3 9.45l-7.72 7.72c-.78.78-.78 2.05 0 2.83L4 21.41c.39.39.9.59 1.41.59.51 0 1.02-.2 1.41-.59l7.78-7.78 2.81-2.81c.8-.78.8-2.07 0-2.86zM5.41 20L4 18.59l7.72-7.72 1.47 1.35L5.41 20z\"/>\n",
              "  </svg>\n",
              "      </button>\n",
              "      \n",
              "  <style>\n",
              "    .colab-df-container {\n",
              "      display:flex;\n",
              "      flex-wrap:wrap;\n",
              "      gap: 12px;\n",
              "    }\n",
              "\n",
              "    .colab-df-convert {\n",
              "      background-color: #E8F0FE;\n",
              "      border: none;\n",
              "      border-radius: 50%;\n",
              "      cursor: pointer;\n",
              "      display: none;\n",
              "      fill: #1967D2;\n",
              "      height: 32px;\n",
              "      padding: 0 0 0 0;\n",
              "      width: 32px;\n",
              "    }\n",
              "\n",
              "    .colab-df-convert:hover {\n",
              "      background-color: #E2EBFA;\n",
              "      box-shadow: 0px 1px 2px rgba(60, 64, 67, 0.3), 0px 1px 3px 1px rgba(60, 64, 67, 0.15);\n",
              "      fill: #174EA6;\n",
              "    }\n",
              "\n",
              "    [theme=dark] .colab-df-convert {\n",
              "      background-color: #3B4455;\n",
              "      fill: #D2E3FC;\n",
              "    }\n",
              "\n",
              "    [theme=dark] .colab-df-convert:hover {\n",
              "      background-color: #434B5C;\n",
              "      box-shadow: 0px 1px 3px 1px rgba(0, 0, 0, 0.15);\n",
              "      filter: drop-shadow(0px 1px 2px rgba(0, 0, 0, 0.3));\n",
              "      fill: #FFFFFF;\n",
              "    }\n",
              "  </style>\n",
              "\n",
              "      <script>\n",
              "        const buttonEl =\n",
              "          document.querySelector('#df-40d47e64-5aa2-4ddc-a456-f5a1e6d84749 button.colab-df-convert');\n",
              "        buttonEl.style.display =\n",
              "          google.colab.kernel.accessAllowed ? 'block' : 'none';\n",
              "\n",
              "        async function convertToInteractive(key) {\n",
              "          const element = document.querySelector('#df-40d47e64-5aa2-4ddc-a456-f5a1e6d84749');\n",
              "          const dataTable =\n",
              "            await google.colab.kernel.invokeFunction('convertToInteractive',\n",
              "                                                     [key], {});\n",
              "          if (!dataTable) return;\n",
              "\n",
              "          const docLinkHtml = 'Like what you see? Visit the ' +\n",
              "            '<a target=\"_blank\" href=https://colab.research.google.com/notebooks/data_table.ipynb>data table notebook</a>'\n",
              "            + ' to learn more about interactive tables.';\n",
              "          element.innerHTML = '';\n",
              "          dataTable['output_type'] = 'display_data';\n",
              "          await google.colab.output.renderOutput(dataTable, element);\n",
              "          const docLink = document.createElement('div');\n",
              "          docLink.innerHTML = docLinkHtml;\n",
              "          element.appendChild(docLink);\n",
              "        }\n",
              "      </script>\n",
              "    </div>\n",
              "  </div>\n",
              "  "
            ]
          },
          "metadata": {},
          "execution_count": 10
        }
      ]
    }
  ]
}